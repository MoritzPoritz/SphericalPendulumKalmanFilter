{
 "cells": [
  {
   "cell_type": "code",
   "execution_count": 1,
   "id": "cb850720",
   "metadata": {},
   "outputs": [],
   "source": [
    "from filterpy.kalman import UnscentedKalmanFilter as UKF\n",
    "from filterpy.kalman import MerweScaledSigmaPoints\n",
    "\n",
    "import numpy as np\n",
    "import sympy as sp\n",
    "import math\n",
    "import matplotlib.pyplot as plt\n",
    "%matplotlib qt\n",
    "DEG_TO_RAD = math.pi/180\n",
    "RAD_TO_DEG = 180/math.pi\n",
    "gravitation = 9.81\n",
    "l = 0.5"
   ]
  },
  {
   "cell_type": "code",
   "execution_count": 2,
   "id": "b8824b6b",
   "metadata": {},
   "outputs": [],
   "source": [
    "def polar_to_kartesian(r, theta, phi):\n",
    "    x = r * np.sin(theta) * np.cos(phi)\n",
    "    y = r * np.sin(theta) * np.sin(phi)\n",
    "    z = -r * np.cos(theta)\n",
    "    return [x,y,z]"
   ]
  },
  {
   "cell_type": "markdown",
   "id": "1c6f0896",
   "metadata": {},
   "source": [
    "X ist der Zustand $ \\vec x = \\begin{bmatrix} \\theta \\\\ \\phi \\\\ \\theta' \\\\ \\phi' \\end{bmatrix} $ wobei gilt $ q = \\begin{bmatrix} \\theta \\\\ \\phi \\end{bmatrix} $\n",
    "\n",
    "\n",
    "Die Funktion **transfer_function** berechnet $\\dot{ \\vec x}$"
   ]
  },
  {
   "cell_type": "code",
   "execution_count": 3,
   "id": "41187b3f",
   "metadata": {},
   "outputs": [],
   "source": [
    "def state_first_deriv(x):\n",
    "    dq = x[2:]\n",
    "    dq2 = second_deriv_theta_phi(x)\n",
    "    \n",
    "    return np.concatenate([dq, dq2])"
   ]
  },
  {
   "cell_type": "code",
   "execution_count": 12,
   "id": "6a45b360",
   "metadata": {},
   "outputs": [],
   "source": [
    "def second_deriv_theta_phi(x):\n",
    "    theta, phi, d_theta, d_phi = x\n",
    "    c, s, t = np.cos(theta), np.sin(theta), np.tan(theta)\n",
    "\n",
    "    d2_theta = (d_phi**2 * c - gravitation / l) * s\n",
    "    d2_phi = -2 * d_theta * d_phi / t\n",
    "    if (t == 0):\n",
    "        print ('t is 0')\n",
    "\n",
    "    return np.array([d2_theta, d2_phi])\n",
    "    "
   ]
  },
  {
   "cell_type": "code",
   "execution_count": 13,
   "id": "38dcad62",
   "metadata": {},
   "outputs": [],
   "source": [
    "def f(x, dt):\n",
    "    x_new = x + state_first_deriv(x) * dt\n",
    "    return x_new\n",
    "    "
   ]
  },
  {
   "cell_type": "code",
   "execution_count": 7,
   "id": "f6437cc5",
   "metadata": {},
   "outputs": [],
   "source": [
    "# Nice divisors are divisors (2.5,4.2), (4, 6), (5, 2) and (1.1, inf)\n",
    "\n",
    "x = [[np.pi / 1.1, 0, 0, 0]]\n",
    "#x = [[ 45* DEG_TO_RAD, 0, 0 * DEG_TO_RAD, 0]]\n",
    "positions = []\n",
    "Ts = [0]\n",
    "dt = 1/100000\n",
    "N = 2000000\n",
    "for i in range(N):\n",
    "    positions.append(polar_to_kartesian(l, x[i][0],x[i][1]))\n",
    "    x.append(f(x[i],dt))\n",
    "    Ts.append(i*dt)"
   ]
  },
  {
   "cell_type": "markdown",
   "id": "d8f6ce8f",
   "metadata": {},
   "source": [
    "## Plot "
   ]
  },
  {
   "cell_type": "code",
   "execution_count": 9,
   "id": "9e049482",
   "metadata": {},
   "outputs": [],
   "source": [
    "import matplotlib.pyplot as plt\n",
    "import mpl_toolkits.mplot3d.axes3d as p3\n",
    "import matplotlib.animation as animation"
   ]
  },
  {
   "cell_type": "code",
   "execution_count": 10,
   "id": "b0f30bfb",
   "metadata": {},
   "outputs": [],
   "source": [
    "positions = np.array(positions)\n"
   ]
  },
  {
   "cell_type": "markdown",
   "id": "3971820f",
   "metadata": {},
   "source": [
    "Plot Unanimated"
   ]
  },
  {
   "cell_type": "code",
   "execution_count": 11,
   "id": "6edd4e2c",
   "metadata": {},
   "outputs": [
    {
     "data": {
      "text/plain": [
       "[<mpl_toolkits.mplot3d.art3d.Line3D at 0x2c1d57ea460>]"
      ]
     },
     "execution_count": 11,
     "metadata": {},
     "output_type": "execute_result"
    }
   ],
   "source": [
    "fig = plt.figure()\n",
    "ax = fig.add_subplot(projection='3d')\n",
    "ax.set_xlim3d(-1, 1)\n",
    "ax.set_ylim3d(-1, 1)\n",
    "ax.set_zlim3d(-1, 1)\n",
    "ax.set_xlabel(\"X\")\n",
    "ax.set_ylabel(\"Y\")\n",
    "ax.set_zlabel(\"Z\")\n",
    "\n",
    "string = plt.quiver(0,0,0,0,0,0)\n",
    "\n",
    "# plotting the overall curve\n",
    "#ax.scatter(positions[:,0], positions[:,1], positions[:,2], c='b', marker='.', linewidth=0.00001)\n",
    "\n",
    "def func(num, positions, pendulum): \n",
    "    x = positions[num, 0]\n",
    "    y = positions[num, 1]\n",
    "    z = positions[num, 2]\n",
    "    \n",
    "    pendulum.set_data(x,y)\n",
    "    pendulum.set_3d_properties(z)\n",
    "    \n",
    "    \n",
    "    u = positions[num, 0]\n",
    "    v = positions[num, 1]\n",
    "    w = positions[num, 2]\n",
    "    \n",
    "    global string\n",
    "    string.remove()\n",
    "    string = plt.quiver(0,0,0, u, v, w,color='g')\n",
    "    \n",
    "pendulum, = plt.plot([positions[0,0]], [positions[0,1]], [positions[0,2]], c='r', marker='o')\n",
    "\n",
    "ani = animation.FuncAnimation(fig, func, fargs=(positions, pendulum), interval=1/1000, blit=False)\n",
    "\n",
    "ax.plot(positions[:,0], positions[:,1], positions[:,2], linewidth=0.6)"
   ]
  },
  {
   "cell_type": "code",
   "execution_count": null,
   "id": "ea414f57",
   "metadata": {},
   "outputs": [],
   "source": []
  }
 ],
 "metadata": {
  "kernelspec": {
   "display_name": "Python 3",
   "language": "python",
   "name": "python3"
  },
  "language_info": {
   "codemirror_mode": {
    "name": "ipython",
    "version": 3
   },
   "file_extension": ".py",
   "mimetype": "text/x-python",
   "name": "python",
   "nbconvert_exporter": "python",
   "pygments_lexer": "ipython3",
   "version": "3.8.8"
  }
 },
 "nbformat": 4,
 "nbformat_minor": 5
}
