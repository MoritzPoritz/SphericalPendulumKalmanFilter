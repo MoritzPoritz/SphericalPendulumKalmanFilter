{
 "cells": [
  {
   "cell_type": "code",
   "execution_count": 1,
   "id": "cb850720",
   "metadata": {},
   "outputs": [],
   "source": [
    "from filterpy.kalman import UnscentedKalmanFilter as UKF\n",
    "from filterpy.kalman import MerweScaledSigmaPoints\n",
    "from filterpy.common import Q_discrete_white_noise\n",
    "from numpy.random import randn\n",
    "import numpy as np\n",
    "import sympy as sp\n",
    "import math\n",
    "import matplotlib.pyplot as plt\n",
    "%matplotlib qt\n",
    "DEG_TO_RAD = math.pi/180\n",
    "RAD_TO_DEG = 180/math.pi\n",
    "gravitation = 9.81\n",
    "l = 0.5"
   ]
  },
  {
   "cell_type": "code",
   "execution_count": 2,
   "id": "b8824b6b",
   "metadata": {},
   "outputs": [],
   "source": [
    "def polar_to_kartesian(r, theta, phi):\n",
    "    x = r * np.sin(theta) * np.cos(phi)\n",
    "    y = r * np.sin(theta) * np.sin(phi)\n",
    "    z = -r * np.cos(theta)\n",
    "    return [x,y,z]"
   ]
  },
  {
   "cell_type": "markdown",
   "id": "1c6f0896",
   "metadata": {},
   "source": [
    "X ist der Zustand $ \\vec x = \\begin{bmatrix} \\theta \\\\ \\phi \\\\ \\theta' \\\\ \\phi' \\end{bmatrix} $ wobei gilt $ q = \\begin{bmatrix} \\theta \\\\ \\phi \\end{bmatrix} $\n",
    "\n",
    "\n",
    "Die Funktion **transfer_function** berechnet $\\dot{ \\vec x}$"
   ]
  },
  {
   "cell_type": "code",
   "execution_count": 3,
   "id": "41187b3f",
   "metadata": {},
   "outputs": [],
   "source": [
    "def state_first_deriv(x):\n",
    "    dq = x[2:]\n",
    "    dq2 = second_deriv_theta_phi(x)\n",
    "    \n",
    "    return np.concatenate([dq, dq2])"
   ]
  },
  {
   "cell_type": "code",
   "execution_count": 4,
   "id": "6a45b360",
   "metadata": {},
   "outputs": [],
   "source": [
    "def second_deriv_theta_phi(x):\n",
    "    theta, phi, d_theta, d_phi = x\n",
    "    c, s, t = np.cos(theta), np.sin(theta), np.tan(theta)\n",
    "\n",
    "    d2_theta = (d_phi**2 * c - gravitation / l) * s\n",
    "    d2_phi = -2 * d_theta * d_phi / t\n",
    "    if (t == 0):\n",
    "        print ('t is 0')\n",
    "\n",
    "    return np.array([d2_theta, d2_phi])\n",
    "    "
   ]
  },
  {
   "cell_type": "code",
   "execution_count": 5,
   "id": "38dcad62",
   "metadata": {},
   "outputs": [],
   "source": [
    "def f(x, dt):\n",
    "    x_new = x + state_first_deriv(x) * dt\n",
    "    return x_new\n",
    "    "
   ]
  },
  {
   "cell_type": "code",
   "execution_count": 6,
   "id": "446ad546",
   "metadata": {},
   "outputs": [],
   "source": [
    "def h(x):\n",
    "    y = polar_to_kartesian(l, x[0], x[1]) \n",
    "    return y"
   ]
  },
  {
   "cell_type": "code",
   "execution_count": 18,
   "id": "f6437cc5",
   "metadata": {},
   "outputs": [],
   "source": [
    "# Nice divisors are divisors (2.5,4.2), (4, 6), (5, 2) and (1.1, inf)\n",
    "\n",
    "x = [[np.pi / 2.5, 0, 0, np.pi/4.2]]\n",
    "positions = []\n",
    "Ts = [0]\n",
    "dt = 1/100000\n",
    "#dt = 1/300\n",
    "N = 100000\n",
    "for i in range(N):\n",
    "    positions.append(polar_to_kartesian(l, x[i][0],x[i][1]))\n",
    "    x.append(f(x[i],dt))\n",
    "    Ts.append(i*dt)"
   ]
  },
  {
   "cell_type": "code",
   "execution_count": 23,
   "id": "f9a6edc5",
   "metadata": {},
   "outputs": [
    {
     "data": {
      "text/plain": [
       "29.999999999999996"
      ]
     },
     "execution_count": 23,
     "metadata": {},
     "output_type": "execute_result"
    }
   ],
   "source": [
    "np.pi/6 * RAD_TO_DEG"
   ]
  },
  {
   "cell_type": "code",
   "execution_count": null,
   "id": "57ecdc00",
   "metadata": {},
   "outputs": [],
   "source": []
  },
  {
   "cell_type": "markdown",
   "id": "83c4789a",
   "metadata": {},
   "source": [
    "## Auswahl weniger Punkte"
   ]
  },
  {
   "cell_type": "code",
   "execution_count": 17,
   "id": "d7ed0152",
   "metadata": {},
   "outputs": [],
   "source": [
    "positions_decreased = []\n",
    "Ts_decreased = []\n",
    "for i in range(N):\n",
    "    if(i % 333 == 0):\n",
    "        positions_decreased.append(positions[i])\n",
    "        Ts_decreased.append(Ts[i])\n",
    "        "
   ]
  },
  {
   "cell_type": "markdown",
   "id": "2d0b1d2e",
   "metadata": {},
   "source": [
    "# Definition Kalman-Filter"
   ]
  },
  {
   "cell_type": "code",
   "execution_count": 18,
   "id": "ad50fed6",
   "metadata": {},
   "outputs": [],
   "source": [
    "sigmas = MerweScaledSigmaPoints(4, alpha=.1, beta=2, kappa=-1)\n",
    "std_x, std_y, std_z = .02,.02,.02"
   ]
  },
  {
   "cell_type": "markdown",
   "id": "da5cccc0",
   "metadata": {},
   "source": [
    "## Simulationsdaten mit künstlichem Messrauschen versehen"
   ]
  },
  {
   "cell_type": "code",
   "execution_count": 19,
   "id": "1598689e",
   "metadata": {},
   "outputs": [],
   "source": [
    "positions_decreased = np.array(positions_decreased)\n"
   ]
  },
  {
   "cell_type": "code",
   "execution_count": 20,
   "id": "ddf56cdd",
   "metadata": {},
   "outputs": [],
   "source": [
    "np.random.seed(1234)\n",
    "\n",
    "for i in range(len(positions_decreased)):\n",
    "    positions_decreased[i][0] = positions_decreased[i][0] + std_x*randn()\n",
    "    positions_decreased[i][1] = positions_decreased[i][1] + std_y*randn()\n",
    "    positions_decreased[i][2] = positions_decreased[i][2] + std_z*randn()\n",
    "    \n"
   ]
  },
  {
   "cell_type": "code",
   "execution_count": 21,
   "id": "2dc7c46b",
   "metadata": {},
   "outputs": [],
   "source": [
    "ukf = UKF(dim_x=4, dim_z=3,fx=f, hx=h, dt=dt, points=sigmas)\n",
    "ukf.x = np.array(x[0])\n",
    "ukf.R = np.diag([std_x**2, std_y**2, std_z**2])\n",
    "ukf.Q[0:2, 0:2] = Q_discrete_white_noise(2,dt=dt, var=.02)\n",
    "ukf.Q[2:4, 2:4] = Q_discrete_white_noise(2,dt=dt, var=.02)\n",
    "\n",
    "uxs = []\n",
    "for p in positions:\n",
    "    ukf.predict()\n",
    "    ukf.update(p)\n",
    "    uxs.append(ukf.x.copy())\n",
    "\n",
    "uxs = np.array(uxs)\n",
    "ux_positions = []\n",
    "for ux in uxs:\n",
    "    ux_positions.append(polar_to_kartesian(l, ux[0], ux[1]))\n",
    "    "
   ]
  },
  {
   "cell_type": "code",
   "execution_count": 22,
   "id": "611e2782",
   "metadata": {},
   "outputs": [],
   "source": [
    "ux_positions = np.array(ux_positions)"
   ]
  },
  {
   "cell_type": "markdown",
   "id": "d8f6ce8f",
   "metadata": {},
   "source": [
    "## Plot "
   ]
  },
  {
   "cell_type": "code",
   "execution_count": 23,
   "id": "9e049482",
   "metadata": {},
   "outputs": [],
   "source": [
    "import matplotlib.pyplot as plt\n",
    "import mpl_toolkits.mplot3d.axes3d as p3\n",
    "import matplotlib.animation as animation\n",
    "import matplotlib as mpl"
   ]
  },
  {
   "cell_type": "code",
   "execution_count": 24,
   "id": "89bf499c",
   "metadata": {},
   "outputs": [],
   "source": [
    "#mpl.rcParams['agg.path.chunksize'] = 10000"
   ]
  },
  {
   "cell_type": "markdown",
   "id": "3971820f",
   "metadata": {},
   "source": [
    "Plot Unanimated"
   ]
  },
  {
   "cell_type": "code",
   "execution_count": 25,
   "id": "6edd4e2c",
   "metadata": {},
   "outputs": [
    {
     "data": {
      "text/plain": [
       "[<mpl_toolkits.mplot3d.art3d.Line3D at 0x261f9bd12e0>]"
      ]
     },
     "execution_count": 25,
     "metadata": {},
     "output_type": "execute_result"
    }
   ],
   "source": [
    "%matplotlib qt\n",
    "fig = plt.figure()\n",
    "ax = fig.add_subplot(projection='3d')\n",
    "ax.set_xlim3d(-1, 1)\n",
    "ax.set_ylim3d(-1, 1)\n",
    "ax.set_zlim3d(-1, 1)\n",
    "ax.set_xlabel(\"X\")\n",
    "ax.set_ylabel(\"Y\")\n",
    "ax.set_zlabel(\"Z\")\n",
    "\n",
    "string = plt.quiver(0,0,0,0,0,0)\n",
    "\n",
    "# plotting the overall curve\n",
    "#ax.scatter(positions[:,0], positions[:,1], positions[:,2], c='b', marker='.', linewidth=0.00001)\n",
    "\n",
    "def func(num, positions_decreased, pendulum): \n",
    "    x = ux_positions[num, 0]\n",
    "    y = ux_positions[num, 1]\n",
    "    z = ux_positions[num, 2]\n",
    "    \n",
    "    pendulum.set_data(x,y)\n",
    "    pendulum.set_3d_properties(z)\n",
    "    \n",
    "    \n",
    "    u = ux_positions[num, 0]\n",
    "    v = ux_positions[num, 1]\n",
    "    w = ux_positions[num, 2]\n",
    "    \n",
    "    global string\n",
    "    string.remove()\n",
    "    string = plt.quiver(0,0,0, u, v, w,color='g')\n",
    "    \n",
    "pendulum, = plt.plot([ux_positions[0,0]], [ux_positions[0,1]], [ux_positions[0,2]], c='r', marker='o')\n",
    "\n",
    "ani = animation.FuncAnimation(fig, func, fargs=(ux_positions, pendulum), interval=1/1000, blit=False)\n",
    "ax.plot(positions_decreased[:,0], positions_decreased[:,1], positions_decreased[:,2], linewidth=0.6)\n",
    "\n",
    "#ax.plot(positions_decreased[:,0], positions_decreased[:,1], positions_decreased[:,2], linewidth=0.6)\n",
    "ax.plot(ux_positions[:,0], ux_positions[:,1], ux_positions[:,2], color='red', linewidth=0.6)"
   ]
  },
  {
   "cell_type": "markdown",
   "id": "e573ab7d",
   "metadata": {},
   "source": [
    "### Plot every plane\n",
    "\n"
   ]
  },
  {
   "cell_type": "code",
   "execution_count": 165,
   "id": "9778ba05",
   "metadata": {},
   "outputs": [],
   "source": [
    "%matplotlib inline"
   ]
  },
  {
   "cell_type": "markdown",
   "id": "3db4ee21",
   "metadata": {},
   "source": [
    "Plot X-Y Plane"
   ]
  },
  {
   "cell_type": "code",
   "execution_count": 65,
   "id": "9e8c5eed",
   "metadata": {},
   "outputs": [
    {
     "data": {
      "text/plain": [
       "[<matplotlib.lines.Line2D at 0x20aaec15250>]"
      ]
     },
     "execution_count": 65,
     "metadata": {},
     "output_type": "execute_result"
    }
   ],
   "source": [
    "plt.plot(ux_positions[:,0],ux_positions[:,1], color='red')\n",
    "plt.plot(positions_decreased[:,0],positions_decreased[:,1], alpha=0.5)\n",
    "\n"
   ]
  },
  {
   "cell_type": "markdown",
   "id": "f0b92bc3",
   "metadata": {},
   "source": [
    "Plot Y-Z Plane"
   ]
  },
  {
   "cell_type": "code",
   "execution_count": 170,
   "id": "bc920a58",
   "metadata": {},
   "outputs": [
    {
     "data": {
      "text/plain": [
       "[<matplotlib.lines.Line2D at 0x20f0b7f7340>]"
      ]
     },
     "execution_count": 170,
     "metadata": {},
     "output_type": "execute_result"
    }
   ],
   "source": [
    "plt.plot(ux_positions[:,1],ux_positions[:,2], color='red')\n",
    "plt.plot(positions_decreased[:,1],positions_decreased[:,2], alpha=0.5)\n"
   ]
  },
  {
   "cell_type": "markdown",
   "id": "5faa74de",
   "metadata": {},
   "source": [
    "Plot X-Z Plane"
   ]
  },
  {
   "cell_type": "code",
   "execution_count": 171,
   "id": "4d2aa7cb",
   "metadata": {},
   "outputs": [
    {
     "data": {
      "text/plain": [
       "[<matplotlib.lines.Line2D at 0x20f0d68f400>]"
      ]
     },
     "execution_count": 171,
     "metadata": {},
     "output_type": "execute_result"
    }
   ],
   "source": [
    "plt.plot(ux_positions[:,0],ux_positions[:,2], color='red')\n",
    "plt.plot(positions_decreased[:,0],positions_decreased[:,2], alpha=0.5)\n"
   ]
  },
  {
   "cell_type": "code",
   "execution_count": null,
   "id": "491b46da",
   "metadata": {},
   "outputs": [],
   "source": []
  }
 ],
 "metadata": {
  "kernelspec": {
   "display_name": "Python 3",
   "language": "python",
   "name": "python3"
  },
  "language_info": {
   "codemirror_mode": {
    "name": "ipython",
    "version": 3
   },
   "file_extension": ".py",
   "mimetype": "text/x-python",
   "name": "python",
   "nbconvert_exporter": "python",
   "pygments_lexer": "ipython3",
   "version": "3.8.8"
  }
 },
 "nbformat": 4,
 "nbformat_minor": 5
}
