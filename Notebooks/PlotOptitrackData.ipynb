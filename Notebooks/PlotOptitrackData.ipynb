{
 "cells": [
  {
   "cell_type": "code",
   "execution_count": 1,
   "metadata": {},
   "outputs": [],
   "source": [
    "import numpy as np\n",
    "import pandas as pd\n",
    "import matplotlib.pyplot as plt\n",
    "%matplotlib inline"
   ]
  },
  {
   "cell_type": "code",
   "execution_count": 2,
   "metadata": {},
   "outputs": [],
   "source": [
    "df = pd.read_csv(\"../src/data/OptiTrack/OptrTrack_Cleaned_Flower.csv\")"
   ]
  },
  {
   "cell_type": "code",
   "execution_count": 3,
   "metadata": {},
   "outputs": [
    {
     "data": {
      "text/html": [
       "<div>\n",
       "<style scoped>\n",
       "    .dataframe tbody tr th:only-of-type {\n",
       "        vertical-align: middle;\n",
       "    }\n",
       "\n",
       "    .dataframe tbody tr th {\n",
       "        vertical-align: top;\n",
       "    }\n",
       "\n",
       "    .dataframe thead th {\n",
       "        text-align: right;\n",
       "    }\n",
       "</style>\n",
       "<table border=\"1\" class=\"dataframe\">\n",
       "  <thead>\n",
       "    <tr style=\"text-align: right;\">\n",
       "      <th></th>\n",
       "      <th>Frame</th>\n",
       "      <th>Time</th>\n",
       "      <th>Top_X</th>\n",
       "      <th>Top_Y</th>\n",
       "      <th>Top_Z</th>\n",
       "      <th>Pendulum_X</th>\n",
       "      <th>Pendulum_Y</th>\n",
       "      <th>Pendulum_Z</th>\n",
       "    </tr>\n",
       "  </thead>\n",
       "  <tbody>\n",
       "    <tr>\n",
       "      <th>0</th>\n",
       "      <td>864</td>\n",
       "      <td>7.200000</td>\n",
       "      <td>-0.007167</td>\n",
       "      <td>1.020277</td>\n",
       "      <td>0.024987</td>\n",
       "      <td>-0.079184</td>\n",
       "      <td>0.377297</td>\n",
       "      <td>0.019315</td>\n",
       "    </tr>\n",
       "    <tr>\n",
       "      <th>1</th>\n",
       "      <td>865</td>\n",
       "      <td>7.208333</td>\n",
       "      <td>-0.007063</td>\n",
       "      <td>1.020281</td>\n",
       "      <td>0.024970</td>\n",
       "      <td>-0.051775</td>\n",
       "      <td>0.373227</td>\n",
       "      <td>0.022521</td>\n",
       "    </tr>\n",
       "    <tr>\n",
       "      <th>2</th>\n",
       "      <td>866</td>\n",
       "      <td>7.216667</td>\n",
       "      <td>-0.007039</td>\n",
       "      <td>1.020281</td>\n",
       "      <td>0.024958</td>\n",
       "      <td>-0.020289</td>\n",
       "      <td>0.374264</td>\n",
       "      <td>0.024863</td>\n",
       "    </tr>\n",
       "    <tr>\n",
       "      <th>3</th>\n",
       "      <td>867</td>\n",
       "      <td>7.225000</td>\n",
       "      <td>-0.007029</td>\n",
       "      <td>1.020272</td>\n",
       "      <td>0.024949</td>\n",
       "      <td>0.009168</td>\n",
       "      <td>0.374767</td>\n",
       "      <td>0.027340</td>\n",
       "    </tr>\n",
       "    <tr>\n",
       "      <th>4</th>\n",
       "      <td>868</td>\n",
       "      <td>7.233333</td>\n",
       "      <td>-0.007006</td>\n",
       "      <td>1.020282</td>\n",
       "      <td>0.024945</td>\n",
       "      <td>0.038802</td>\n",
       "      <td>0.376516</td>\n",
       "      <td>0.030440</td>\n",
       "    </tr>\n",
       "  </tbody>\n",
       "</table>\n",
       "</div>"
      ],
      "text/plain": [
       "   Frame      Time     Top_X     Top_Y     Top_Z  Pendulum_X  Pendulum_Y  \\\n",
       "0    864  7.200000 -0.007167  1.020277  0.024987   -0.079184    0.377297   \n",
       "1    865  7.208333 -0.007063  1.020281  0.024970   -0.051775    0.373227   \n",
       "2    866  7.216667 -0.007039  1.020281  0.024958   -0.020289    0.374264   \n",
       "3    867  7.225000 -0.007029  1.020272  0.024949    0.009168    0.374767   \n",
       "4    868  7.233333 -0.007006  1.020282  0.024945    0.038802    0.376516   \n",
       "\n",
       "   Pendulum_Z  \n",
       "0    0.019315  \n",
       "1    0.022521  \n",
       "2    0.024863  \n",
       "3    0.027340  \n",
       "4    0.030440  "
      ]
     },
     "execution_count": 3,
     "metadata": {},
     "output_type": "execute_result"
    }
   ],
   "source": [
    "df.head()"
   ]
  },
  {
   "cell_type": "code",
   "execution_count": 4,
   "metadata": {},
   "outputs": [],
   "source": [
    "#df = df.drop(labels=range(0,736))"
   ]
  },
  {
   "cell_type": "markdown",
   "metadata": {},
   "source": [
    "## Check Dataset"
   ]
  },
  {
   "cell_type": "code",
   "execution_count": 5,
   "metadata": {},
   "outputs": [
    {
     "data": {
      "text/html": [
       "<div>\n",
       "<style scoped>\n",
       "    .dataframe tbody tr th:only-of-type {\n",
       "        vertical-align: middle;\n",
       "    }\n",
       "\n",
       "    .dataframe tbody tr th {\n",
       "        vertical-align: top;\n",
       "    }\n",
       "\n",
       "    .dataframe thead th {\n",
       "        text-align: right;\n",
       "    }\n",
       "</style>\n",
       "<table border=\"1\" class=\"dataframe\">\n",
       "  <thead>\n",
       "    <tr style=\"text-align: right;\">\n",
       "      <th></th>\n",
       "      <th>Frame</th>\n",
       "      <th>Time</th>\n",
       "      <th>Top_X</th>\n",
       "      <th>Top_Y</th>\n",
       "      <th>Top_Z</th>\n",
       "      <th>Pendulum_X</th>\n",
       "      <th>Pendulum_Y</th>\n",
       "      <th>Pendulum_Z</th>\n",
       "    </tr>\n",
       "  </thead>\n",
       "  <tbody>\n",
       "    <tr>\n",
       "      <th>0</th>\n",
       "      <td>864</td>\n",
       "      <td>7.200000</td>\n",
       "      <td>-0.007167</td>\n",
       "      <td>1.020277</td>\n",
       "      <td>0.024987</td>\n",
       "      <td>-0.079184</td>\n",
       "      <td>0.377297</td>\n",
       "      <td>0.019315</td>\n",
       "    </tr>\n",
       "    <tr>\n",
       "      <th>1</th>\n",
       "      <td>865</td>\n",
       "      <td>7.208333</td>\n",
       "      <td>-0.007063</td>\n",
       "      <td>1.020281</td>\n",
       "      <td>0.024970</td>\n",
       "      <td>-0.051775</td>\n",
       "      <td>0.373227</td>\n",
       "      <td>0.022521</td>\n",
       "    </tr>\n",
       "    <tr>\n",
       "      <th>2</th>\n",
       "      <td>866</td>\n",
       "      <td>7.216667</td>\n",
       "      <td>-0.007039</td>\n",
       "      <td>1.020281</td>\n",
       "      <td>0.024958</td>\n",
       "      <td>-0.020289</td>\n",
       "      <td>0.374264</td>\n",
       "      <td>0.024863</td>\n",
       "    </tr>\n",
       "    <tr>\n",
       "      <th>3</th>\n",
       "      <td>867</td>\n",
       "      <td>7.225000</td>\n",
       "      <td>-0.007029</td>\n",
       "      <td>1.020272</td>\n",
       "      <td>0.024949</td>\n",
       "      <td>0.009168</td>\n",
       "      <td>0.374767</td>\n",
       "      <td>0.027340</td>\n",
       "    </tr>\n",
       "    <tr>\n",
       "      <th>4</th>\n",
       "      <td>868</td>\n",
       "      <td>7.233333</td>\n",
       "      <td>-0.007006</td>\n",
       "      <td>1.020282</td>\n",
       "      <td>0.024945</td>\n",
       "      <td>0.038802</td>\n",
       "      <td>0.376516</td>\n",
       "      <td>0.030440</td>\n",
       "    </tr>\n",
       "  </tbody>\n",
       "</table>\n",
       "</div>"
      ],
      "text/plain": [
       "   Frame      Time     Top_X     Top_Y     Top_Z  Pendulum_X  Pendulum_Y  \\\n",
       "0    864  7.200000 -0.007167  1.020277  0.024987   -0.079184    0.377297   \n",
       "1    865  7.208333 -0.007063  1.020281  0.024970   -0.051775    0.373227   \n",
       "2    866  7.216667 -0.007039  1.020281  0.024958   -0.020289    0.374264   \n",
       "3    867  7.225000 -0.007029  1.020272  0.024949    0.009168    0.374767   \n",
       "4    868  7.233333 -0.007006  1.020282  0.024945    0.038802    0.376516   \n",
       "\n",
       "   Pendulum_Z  \n",
       "0    0.019315  \n",
       "1    0.022521  \n",
       "2    0.024863  \n",
       "3    0.027340  \n",
       "4    0.030440  "
      ]
     },
     "execution_count": 5,
     "metadata": {},
     "output_type": "execute_result"
    }
   ],
   "source": [
    "df.head()"
   ]
  },
  {
   "cell_type": "code",
   "execution_count": 6,
   "metadata": {},
   "outputs": [
    {
     "data": {
      "text/plain": [
       "False"
      ]
     },
     "execution_count": 6,
     "metadata": {},
     "output_type": "execute_result"
    }
   ],
   "source": [
    "df.isnull().values.any()"
   ]
  },
  {
   "cell_type": "code",
   "execution_count": 7,
   "metadata": {},
   "outputs": [
    {
     "data": {
      "text/plain": [
       "(13869, 8)"
      ]
     },
     "execution_count": 7,
     "metadata": {},
     "output_type": "execute_result"
    }
   ],
   "source": [
    "df.shape"
   ]
  },
  {
   "cell_type": "markdown",
   "metadata": {},
   "source": [
    "# Process Data"
   ]
  },
  {
   "cell_type": "code",
   "execution_count": 8,
   "metadata": {},
   "outputs": [],
   "source": [
    "#df['X'] = df['Top_X'] - df['Pendulum_X']\n",
    "#df['Z'] = df['Pendulum_Z']\n",
    "df['Y'] = df['Pendulum_Y'] - df['Top_Y']\n",
    "df['Z'] = df['Pendulum_Z'] - df['Top_Z']\n",
    "df['X'] = df['Pendulum_X'] - df['Top_X']"
   ]
  },
  {
   "cell_type": "code",
   "execution_count": null,
   "metadata": {},
   "outputs": [],
   "source": []
  },
  {
   "cell_type": "code",
   "execution_count": 9,
   "metadata": {},
   "outputs": [
    {
     "data": {
      "text/html": [
       "<div>\n",
       "<style scoped>\n",
       "    .dataframe tbody tr th:only-of-type {\n",
       "        vertical-align: middle;\n",
       "    }\n",
       "\n",
       "    .dataframe tbody tr th {\n",
       "        vertical-align: top;\n",
       "    }\n",
       "\n",
       "    .dataframe thead th {\n",
       "        text-align: right;\n",
       "    }\n",
       "</style>\n",
       "<table border=\"1\" class=\"dataframe\">\n",
       "  <thead>\n",
       "    <tr style=\"text-align: right;\">\n",
       "      <th></th>\n",
       "      <th>Frame</th>\n",
       "      <th>Time</th>\n",
       "      <th>Top_X</th>\n",
       "      <th>Top_Y</th>\n",
       "      <th>Top_Z</th>\n",
       "      <th>Pendulum_X</th>\n",
       "      <th>Pendulum_Y</th>\n",
       "      <th>Pendulum_Z</th>\n",
       "      <th>Y</th>\n",
       "      <th>Z</th>\n",
       "      <th>X</th>\n",
       "    </tr>\n",
       "  </thead>\n",
       "  <tbody>\n",
       "    <tr>\n",
       "      <th>0</th>\n",
       "      <td>864</td>\n",
       "      <td>7.200000</td>\n",
       "      <td>-0.007167</td>\n",
       "      <td>1.020277</td>\n",
       "      <td>0.024987</td>\n",
       "      <td>-0.079184</td>\n",
       "      <td>0.377297</td>\n",
       "      <td>0.019315</td>\n",
       "      <td>-0.642980</td>\n",
       "      <td>-0.005672</td>\n",
       "      <td>-0.072017</td>\n",
       "    </tr>\n",
       "    <tr>\n",
       "      <th>1</th>\n",
       "      <td>865</td>\n",
       "      <td>7.208333</td>\n",
       "      <td>-0.007063</td>\n",
       "      <td>1.020281</td>\n",
       "      <td>0.024970</td>\n",
       "      <td>-0.051775</td>\n",
       "      <td>0.373227</td>\n",
       "      <td>0.022521</td>\n",
       "      <td>-0.647054</td>\n",
       "      <td>-0.002449</td>\n",
       "      <td>-0.044712</td>\n",
       "    </tr>\n",
       "    <tr>\n",
       "      <th>2</th>\n",
       "      <td>866</td>\n",
       "      <td>7.216667</td>\n",
       "      <td>-0.007039</td>\n",
       "      <td>1.020281</td>\n",
       "      <td>0.024958</td>\n",
       "      <td>-0.020289</td>\n",
       "      <td>0.374264</td>\n",
       "      <td>0.024863</td>\n",
       "      <td>-0.646017</td>\n",
       "      <td>-0.000095</td>\n",
       "      <td>-0.013250</td>\n",
       "    </tr>\n",
       "    <tr>\n",
       "      <th>3</th>\n",
       "      <td>867</td>\n",
       "      <td>7.225000</td>\n",
       "      <td>-0.007029</td>\n",
       "      <td>1.020272</td>\n",
       "      <td>0.024949</td>\n",
       "      <td>0.009168</td>\n",
       "      <td>0.374767</td>\n",
       "      <td>0.027340</td>\n",
       "      <td>-0.645505</td>\n",
       "      <td>0.002391</td>\n",
       "      <td>0.016197</td>\n",
       "    </tr>\n",
       "    <tr>\n",
       "      <th>4</th>\n",
       "      <td>868</td>\n",
       "      <td>7.233333</td>\n",
       "      <td>-0.007006</td>\n",
       "      <td>1.020282</td>\n",
       "      <td>0.024945</td>\n",
       "      <td>0.038802</td>\n",
       "      <td>0.376516</td>\n",
       "      <td>0.030440</td>\n",
       "      <td>-0.643766</td>\n",
       "      <td>0.005495</td>\n",
       "      <td>0.045808</td>\n",
       "    </tr>\n",
       "  </tbody>\n",
       "</table>\n",
       "</div>"
      ],
      "text/plain": [
       "   Frame      Time     Top_X     Top_Y     Top_Z  Pendulum_X  Pendulum_Y  \\\n",
       "0    864  7.200000 -0.007167  1.020277  0.024987   -0.079184    0.377297   \n",
       "1    865  7.208333 -0.007063  1.020281  0.024970   -0.051775    0.373227   \n",
       "2    866  7.216667 -0.007039  1.020281  0.024958   -0.020289    0.374264   \n",
       "3    867  7.225000 -0.007029  1.020272  0.024949    0.009168    0.374767   \n",
       "4    868  7.233333 -0.007006  1.020282  0.024945    0.038802    0.376516   \n",
       "\n",
       "   Pendulum_Z         Y         Z         X  \n",
       "0    0.019315 -0.642980 -0.005672 -0.072017  \n",
       "1    0.022521 -0.647054 -0.002449 -0.044712  \n",
       "2    0.024863 -0.646017 -0.000095 -0.013250  \n",
       "3    0.027340 -0.645505  0.002391  0.016197  \n",
       "4    0.030440 -0.643766  0.005495  0.045808  "
      ]
     },
     "execution_count": 9,
     "metadata": {},
     "output_type": "execute_result"
    }
   ],
   "source": [
    "df.head()"
   ]
  },
  {
   "cell_type": "markdown",
   "metadata": {},
   "source": [
    "# Create CSV for Filter"
   ]
  },
  {
   "cell_type": "code",
   "execution_count": 10,
   "metadata": {},
   "outputs": [],
   "source": [
    "df_export = pd.DataFrame({\n",
    "    'theta': np.ones(len(df['Frame'].values)),\n",
    "    'phi': np.ones(len(df['Frame'].values)),\n",
    "    'dtheta': np.ones(len(df['Frame'].values)),\n",
    "    'dphi': np.ones(len(df['Frame'].values)),\n",
    "    'position_x': df['Pendulum_X'].values,\n",
    "    'position_y': df['Z'].values, \n",
    "    'position_z': df['Y'].values, \n",
    "    'timestep': df['Time'].values\n",
    "    \n",
    "}) "
   ]
  },
  {
   "cell_type": "code",
   "execution_count": 11,
   "metadata": {},
   "outputs": [],
   "source": [
    "df_export.to_csv(\"../src/data/CleanedOptitrack_2.csv\")"
   ]
  },
  {
   "cell_type": "markdown",
   "metadata": {},
   "source": [
    "## Plot Data"
   ]
  },
  {
   "cell_type": "code",
   "execution_count": 12,
   "metadata": {},
   "outputs": [],
   "source": [
    "%matplotlib inline"
   ]
  },
  {
   "cell_type": "code",
   "execution_count": 13,
   "metadata": {},
   "outputs": [
    {
     "data": {
      "text/plain": [
       "(-1.0, 1.0)"
      ]
     },
     "execution_count": 13,
     "metadata": {},
     "output_type": "execute_result"
    },
    {
     "data": {
      "image/png": "[encoded data removed]",
      "text/plain": [
       "<Figure size 432x288 with 1 Axes>"
      ]
     },
     "metadata": {
      "needs_background": "light"
     },
     "output_type": "display_data"
    }
   ],
   "source": [
    "plt.scatter(df[\"X\"], df[\"Z\"], s=0.5, alpha=0.3,color=\"black\")\n",
    "plt.xlim(-1,1)\n",
    "plt.ylim(-1,1)"
   ]
  },
  {
   "cell_type": "code",
   "execution_count": 14,
   "metadata": {},
   "outputs": [
    {
     "data": {
      "text/plain": [
       "<matplotlib.collections.PathCollection at 0x12e0f6498b0>"
      ]
     },
     "execution_count": 14,
     "metadata": {},
     "output_type": "execute_result"
    },
    {
     "data": {
      "image/png": "[encoded data removed]",
      "text/plain": [
       "<Figure size 432x288 with 1 Axes>"
      ]
     },
     "metadata": {
      "needs_background": "light"
     },
     "output_type": "display_data"
    }
   ],
   "source": [
    "plt.scatter(df[\"Z\"], df[\"Y\"], s=0.5, alpha=0.3,color=\"black\")"
   ]
  },
  {
   "cell_type": "code",
   "execution_count": 15,
   "metadata": {},
   "outputs": [
    {
     "data": {
      "text/plain": [
       "<matplotlib.collections.PathCollection at 0x12e0f649910>"
      ]
     },
     "execution_count": 15,
     "metadata": {},
     "output_type": "execute_result"
    },
    {
     "data": {
      "image/png": "[encoded data removed]",
      "text/plain": [
       "<Figure size 432x288 with 1 Axes>"
      ]
     },
     "metadata": {
      "needs_background": "light"
     },
     "output_type": "display_data"
    }
   ],
   "source": [
    "plt.scatter(df[\"Pendulum_X\"],df[\"Pendulum_Y\"], s=0.5, alpha=0.3,color=\"black\")"
   ]
  },
  {
   "cell_type": "markdown",
   "metadata": {},
   "source": [
    "## 3D-Plot"
   ]
  },
  {
   "cell_type": "code",
   "execution_count": 16,
   "metadata": {},
   "outputs": [],
   "source": [
    "import matplotlib.pyplot as plt\n",
    "import mpl_toolkits.mplot3d.axes3d as p3\n",
    "import matplotlib.animation as animation\n",
    "import matplotlib as mpl"
   ]
  },
  {
   "cell_type": "code",
   "execution_count": 17,
   "metadata": {},
   "outputs": [
    {
     "data": {
      "text/plain": [
       "<mpl_toolkits.mplot3d.art3d.Path3DCollection at 0x12e0fd38310>"
      ]
     },
     "execution_count": 17,
     "metadata": {},
     "output_type": "execute_result"
    }
   ],
   "source": [
    "%matplotlib qt\n",
    "fig = plt.figure()\n",
    "ax = fig.add_subplot(projection='3d')\n",
    "ax.set_xlim3d(-1, 1)\n",
    "ax.set_ylim3d(-1, 1)\n",
    "ax.set_zlim3d(-1, 1)\n",
    "ax.set_xlabel(\"X\")\n",
    "ax.set_ylabel(\"Y\")\n",
    "ax.set_zlabel(\"Z\")\n",
    "\n",
    "ax.scatter(df['X'], df['Z'], df['Y'], s=0.4, color=\"black\")\n",
    "\n"
   ]
  },
  {
   "cell_type": "code",
   "execution_count": null,
   "metadata": {},
   "outputs": [],
   "source": []
  }
 ],
 "metadata": {
  "kernelspec": {
   "display_name": "Python 3",
   "language": "python",
   "name": "python3"
  },
  "language_info": {
   "codemirror_mode": {
    "name": "ipython",
    "version": 3
   },
   "file_extension": ".py",
   "mimetype": "text/x-python",
   "name": "python",
   "nbconvert_exporter": "python",
   "pygments_lexer": "ipython3",
   "version": "3.8.8"
  }
 },
 "nbformat": 4,
 "nbformat_minor": 4
}
