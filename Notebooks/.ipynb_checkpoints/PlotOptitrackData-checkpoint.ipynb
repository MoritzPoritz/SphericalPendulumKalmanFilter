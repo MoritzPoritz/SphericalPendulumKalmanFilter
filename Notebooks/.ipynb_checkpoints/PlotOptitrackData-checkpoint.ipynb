{
 "cells": [
  {
   "cell_type": "code",
   "execution_count": 38,
   "metadata": {},
   "outputs": [],
   "source": [
    "import numpy as np\n",
    "import pandas as pd\n",
    "import matplotlib.pyplot as plt\n",
    "%matplotlib inline"
   ]
  },
  {
   "cell_type": "code",
   "execution_count": 67,
   "metadata": {},
   "outputs": [],
   "source": [
    "df = pd.read_csv(\"../src/data/OptiTrack/OptiTrack_Cleaned_Flower - Sheet1.csv\")"
   ]
  },
  {
   "cell_type": "code",
   "execution_count": 68,
   "metadata": {},
   "outputs": [],
   "source": [
    "df = df.drop(labels=range(0,736))"
   ]
  },
  {
   "cell_type": "markdown",
   "metadata": {},
   "source": [
    "## Check Dataset"
   ]
  },
  {
   "cell_type": "code",
   "execution_count": 69,
   "metadata": {},
   "outputs": [
    {
     "data": {
      "text/html": [
       "<div>\n",
       "<style scoped>\n",
       "    .dataframe tbody tr th:only-of-type {\n",
       "        vertical-align: middle;\n",
       "    }\n",
       "\n",
       "    .dataframe tbody tr th {\n",
       "        vertical-align: top;\n",
       "    }\n",
       "\n",
       "    .dataframe thead th {\n",
       "        text-align: right;\n",
       "    }\n",
       "</style>\n",
       "<table border=\"1\" class=\"dataframe\">\n",
       "  <thead>\n",
       "    <tr style=\"text-align: right;\">\n",
       "      <th></th>\n",
       "      <th>Frame</th>\n",
       "      <th>Time</th>\n",
       "      <th>Pendulum_X</th>\n",
       "      <th>Pendulum_Y</th>\n",
       "      <th>Pendulum_Z</th>\n",
       "      <th>Top_X</th>\n",
       "      <th>Top_Y</th>\n",
       "      <th>Top_Z</th>\n",
       "    </tr>\n",
       "  </thead>\n",
       "  <tbody>\n",
       "    <tr>\n",
       "      <th>736</th>\n",
       "      <td>736</td>\n",
       "      <td>6.133333</td>\n",
       "      <td>-0.526756</td>\n",
       "      <td>0.638710</td>\n",
       "      <td>0.056786</td>\n",
       "      <td>-0.001233</td>\n",
       "      <td>1.021600</td>\n",
       "      <td>0.024613</td>\n",
       "    </tr>\n",
       "    <tr>\n",
       "      <th>737</th>\n",
       "      <td>737</td>\n",
       "      <td>6.141667</td>\n",
       "      <td>-0.525228</td>\n",
       "      <td>0.637132</td>\n",
       "      <td>0.055429</td>\n",
       "      <td>-0.001341</td>\n",
       "      <td>1.021726</td>\n",
       "      <td>0.024477</td>\n",
       "    </tr>\n",
       "    <tr>\n",
       "      <th>738</th>\n",
       "      <td>738</td>\n",
       "      <td>6.150000</td>\n",
       "      <td>-0.523363</td>\n",
       "      <td>0.634532</td>\n",
       "      <td>0.054857</td>\n",
       "      <td>-0.001332</td>\n",
       "      <td>1.021774</td>\n",
       "      <td>0.024450</td>\n",
       "    </tr>\n",
       "    <tr>\n",
       "      <th>739</th>\n",
       "      <td>739</td>\n",
       "      <td>6.158333</td>\n",
       "      <td>-0.520857</td>\n",
       "      <td>0.631002</td>\n",
       "      <td>0.054349</td>\n",
       "      <td>-0.001277</td>\n",
       "      <td>1.021769</td>\n",
       "      <td>0.024435</td>\n",
       "    </tr>\n",
       "    <tr>\n",
       "      <th>740</th>\n",
       "      <td>740</td>\n",
       "      <td>6.166667</td>\n",
       "      <td>-0.517678</td>\n",
       "      <td>0.626680</td>\n",
       "      <td>0.053909</td>\n",
       "      <td>-0.001192</td>\n",
       "      <td>1.021671</td>\n",
       "      <td>0.024424</td>\n",
       "    </tr>\n",
       "  </tbody>\n",
       "</table>\n",
       "</div>"
      ],
      "text/plain": [
       "     Frame      Time  Pendulum_X  Pendulum_Y  Pendulum_Z     Top_X     Top_Y  \\\n",
       "736    736  6.133333   -0.526756    0.638710    0.056786 -0.001233  1.021600   \n",
       "737    737  6.141667   -0.525228    0.637132    0.055429 -0.001341  1.021726   \n",
       "738    738  6.150000   -0.523363    0.634532    0.054857 -0.001332  1.021774   \n",
       "739    739  6.158333   -0.520857    0.631002    0.054349 -0.001277  1.021769   \n",
       "740    740  6.166667   -0.517678    0.626680    0.053909 -0.001192  1.021671   \n",
       "\n",
       "        Top_Z  \n",
       "736  0.024613  \n",
       "737  0.024477  \n",
       "738  0.024450  \n",
       "739  0.024435  \n",
       "740  0.024424  "
      ]
     },
     "execution_count": 69,
     "metadata": {},
     "output_type": "execute_result"
    }
   ],
   "source": [
    "df.head()"
   ]
  },
  {
   "cell_type": "code",
   "execution_count": 70,
   "metadata": {},
   "outputs": [
    {
     "data": {
      "text/plain": [
       "False"
      ]
     },
     "execution_count": 70,
     "metadata": {},
     "output_type": "execute_result"
    }
   ],
   "source": [
    "df.isnull().values.any()"
   ]
  },
  {
   "cell_type": "code",
   "execution_count": 71,
   "metadata": {},
   "outputs": [
    {
     "data": {
      "text/plain": [
       "(12140, 8)"
      ]
     },
     "execution_count": 71,
     "metadata": {},
     "output_type": "execute_result"
    }
   ],
   "source": [
    "df.shape"
   ]
  },
  {
   "cell_type": "markdown",
   "metadata": {},
   "source": [
    "# Process Data"
   ]
  },
  {
   "cell_type": "code",
   "execution_count": 83,
   "metadata": {},
   "outputs": [],
   "source": [
    "#df['X'] = df['Top_X'] - df['Pendulum_X']\n",
    "#df['Z'] = df['Pendulum_Z']\n",
    "df['Y'] = df['Pendulum_Y'] - df['Top_Y']\n",
    "df['Z'] = df['Pendulum_Z'] - df['Top_Z']\n",
    "df['X'] = df['Pendulum_X'] - df['Top_X']"
   ]
  },
  {
   "cell_type": "code",
   "execution_count": null,
   "metadata": {},
   "outputs": [],
   "source": []
  },
  {
   "cell_type": "code",
   "execution_count": 84,
   "metadata": {},
   "outputs": [
    {
     "data": {
      "text/html": [
       "<div>\n",
       "<style scoped>\n",
       "    .dataframe tbody tr th:only-of-type {\n",
       "        vertical-align: middle;\n",
       "    }\n",
       "\n",
       "    .dataframe tbody tr th {\n",
       "        vertical-align: top;\n",
       "    }\n",
       "\n",
       "    .dataframe thead th {\n",
       "        text-align: right;\n",
       "    }\n",
       "</style>\n",
       "<table border=\"1\" class=\"dataframe\">\n",
       "  <thead>\n",
       "    <tr style=\"text-align: right;\">\n",
       "      <th></th>\n",
       "      <th>Frame</th>\n",
       "      <th>Time</th>\n",
       "      <th>Pendulum_X</th>\n",
       "      <th>Pendulum_Y</th>\n",
       "      <th>Pendulum_Z</th>\n",
       "      <th>Top_X</th>\n",
       "      <th>Top_Y</th>\n",
       "      <th>Top_Z</th>\n",
       "      <th>Y</th>\n",
       "      <th>Z</th>\n",
       "      <th>X</th>\n",
       "    </tr>\n",
       "  </thead>\n",
       "  <tbody>\n",
       "    <tr>\n",
       "      <th>736</th>\n",
       "      <td>736</td>\n",
       "      <td>6.133333</td>\n",
       "      <td>-0.526756</td>\n",
       "      <td>0.638710</td>\n",
       "      <td>0.056786</td>\n",
       "      <td>-0.001233</td>\n",
       "      <td>1.021600</td>\n",
       "      <td>0.024613</td>\n",
       "      <td>-0.382890</td>\n",
       "      <td>0.032173</td>\n",
       "      <td>-0.525523</td>\n",
       "    </tr>\n",
       "    <tr>\n",
       "      <th>737</th>\n",
       "      <td>737</td>\n",
       "      <td>6.141667</td>\n",
       "      <td>-0.525228</td>\n",
       "      <td>0.637132</td>\n",
       "      <td>0.055429</td>\n",
       "      <td>-0.001341</td>\n",
       "      <td>1.021726</td>\n",
       "      <td>0.024477</td>\n",
       "      <td>-0.384594</td>\n",
       "      <td>0.030952</td>\n",
       "      <td>-0.523887</td>\n",
       "    </tr>\n",
       "    <tr>\n",
       "      <th>738</th>\n",
       "      <td>738</td>\n",
       "      <td>6.150000</td>\n",
       "      <td>-0.523363</td>\n",
       "      <td>0.634532</td>\n",
       "      <td>0.054857</td>\n",
       "      <td>-0.001332</td>\n",
       "      <td>1.021774</td>\n",
       "      <td>0.024450</td>\n",
       "      <td>-0.387242</td>\n",
       "      <td>0.030407</td>\n",
       "      <td>-0.522031</td>\n",
       "    </tr>\n",
       "    <tr>\n",
       "      <th>739</th>\n",
       "      <td>739</td>\n",
       "      <td>6.158333</td>\n",
       "      <td>-0.520857</td>\n",
       "      <td>0.631002</td>\n",
       "      <td>0.054349</td>\n",
       "      <td>-0.001277</td>\n",
       "      <td>1.021769</td>\n",
       "      <td>0.024435</td>\n",
       "      <td>-0.390767</td>\n",
       "      <td>0.029914</td>\n",
       "      <td>-0.519580</td>\n",
       "    </tr>\n",
       "    <tr>\n",
       "      <th>740</th>\n",
       "      <td>740</td>\n",
       "      <td>6.166667</td>\n",
       "      <td>-0.517678</td>\n",
       "      <td>0.626680</td>\n",
       "      <td>0.053909</td>\n",
       "      <td>-0.001192</td>\n",
       "      <td>1.021671</td>\n",
       "      <td>0.024424</td>\n",
       "      <td>-0.394991</td>\n",
       "      <td>0.029485</td>\n",
       "      <td>-0.516486</td>\n",
       "    </tr>\n",
       "  </tbody>\n",
       "</table>\n",
       "</div>"
      ],
      "text/plain": [
       "     Frame      Time  Pendulum_X  Pendulum_Y  Pendulum_Z     Top_X     Top_Y  \\\n",
       "736    736  6.133333   -0.526756    0.638710    0.056786 -0.001233  1.021600   \n",
       "737    737  6.141667   -0.525228    0.637132    0.055429 -0.001341  1.021726   \n",
       "738    738  6.150000   -0.523363    0.634532    0.054857 -0.001332  1.021774   \n",
       "739    739  6.158333   -0.520857    0.631002    0.054349 -0.001277  1.021769   \n",
       "740    740  6.166667   -0.517678    0.626680    0.053909 -0.001192  1.021671   \n",
       "\n",
       "        Top_Z         Y         Z         X  \n",
       "736  0.024613 -0.382890  0.032173 -0.525523  \n",
       "737  0.024477 -0.384594  0.030952 -0.523887  \n",
       "738  0.024450 -0.387242  0.030407 -0.522031  \n",
       "739  0.024435 -0.390767  0.029914 -0.519580  \n",
       "740  0.024424 -0.394991  0.029485 -0.516486  "
      ]
     },
     "execution_count": 84,
     "metadata": {},
     "output_type": "execute_result"
    }
   ],
   "source": [
    "df.head()"
   ]
  },
  {
   "cell_type": "markdown",
   "metadata": {},
   "source": [
    "# Create CSV for Filter"
   ]
  },
  {
   "cell_type": "code",
   "execution_count": 85,
   "metadata": {},
   "outputs": [],
   "source": [
    "df_export = pd.DataFrame({\n",
    "    'theta': np.ones(len(df['Frame'].values)),\n",
    "    'phi': np.ones(len(df['Frame'].values)),\n",
    "    'dtheta': np.ones(len(df['Frame'].values)),\n",
    "    'dphi': np.ones(len(df['Frame'].values)),\n",
    "    'position_x': df['Pendulum_X'].values,\n",
    "    'position_y': df['Z'].values, \n",
    "    'position_z': df['Y'].values, \n",
    "    'timestep': df['Time'].values\n",
    "    \n",
    "}) "
   ]
  },
  {
   "cell_type": "code",
   "execution_count": 86,
   "metadata": {},
   "outputs": [],
   "source": [
    "df_export.to_csv(\"../src/data/CleanedOptitrack_2.csv\")"
   ]
  },
  {
   "cell_type": "markdown",
   "metadata": {},
   "source": [
    "## Plot Data"
   ]
  },
  {
   "cell_type": "code",
   "execution_count": 88,
   "metadata": {},
   "outputs": [
    {
     "data": {
      "text/plain": [
       "<matplotlib.collections.PathCollection at 0x1d759580df0>"
      ]
     },
     "execution_count": 88,
     "metadata": {},
     "output_type": "execute_result"
    }
   ],
   "source": [
    "plt.scatter(df[\"X\"], df[\"Z\"], s=0.5, alpha=0.3,color=\"black\")"
   ]
  },
  {
   "cell_type": "code",
   "execution_count": 89,
   "metadata": {},
   "outputs": [
    {
     "data": {
      "text/plain": [
       "<matplotlib.collections.PathCollection at 0x1d761ee8070>"
      ]
     },
     "execution_count": 89,
     "metadata": {},
     "output_type": "execute_result"
    }
   ],
   "source": [
    "plt.scatter(df[\"Z\"], df[\"Y\"], s=0.5, alpha=0.3,color=\"black\")"
   ]
  },
  {
   "cell_type": "code",
   "execution_count": 90,
   "metadata": {},
   "outputs": [
    {
     "data": {
      "text/plain": [
       "<matplotlib.collections.PathCollection at 0x1d761f39820>"
      ]
     },
     "execution_count": 90,
     "metadata": {},
     "output_type": "execute_result"
    }
   ],
   "source": [
    "plt.scatter(df[\"Pendulum_X\"],df[\"Pendulum_Y\"], s=0.5, alpha=0.3,color=\"black\")"
   ]
  },
  {
   "cell_type": "markdown",
   "metadata": {},
   "source": [
    "## 3D-Plot"
   ]
  },
  {
   "cell_type": "code",
   "execution_count": 91,
   "metadata": {},
   "outputs": [],
   "source": [
    "import matplotlib.pyplot as plt\n",
    "import mpl_toolkits.mplot3d.axes3d as p3\n",
    "import matplotlib.animation as animation\n",
    "import matplotlib as mpl"
   ]
  },
  {
   "cell_type": "code",
   "execution_count": 93,
   "metadata": {},
   "outputs": [
    {
     "data": {
      "text/plain": [
       "<mpl_toolkits.mplot3d.art3d.Path3DCollection at 0x1d76213e130>"
      ]
     },
     "execution_count": 93,
     "metadata": {},
     "output_type": "execute_result"
    }
   ],
   "source": [
    "%matplotlib qt\n",
    "fig = plt.figure()\n",
    "ax = fig.add_subplot(projection='3d')\n",
    "ax.set_xlim3d(-1, 1)\n",
    "ax.set_ylim3d(-1, 1)\n",
    "ax.set_zlim3d(-1, 1)\n",
    "ax.set_xlabel(\"X\")\n",
    "ax.set_ylabel(\"Y\")\n",
    "ax.set_zlabel(\"Z\")\n",
    "\n",
    "ax.scatter(df['X'], df['Z'], df['Y'], s=0.4, color=\"black\")\n",
    "\n"
   ]
  },
  {
   "cell_type": "code",
   "execution_count": null,
   "metadata": {},
   "outputs": [],
   "source": []
  }
 ],
 "metadata": {
  "kernelspec": {
   "display_name": "Python 3",
   "language": "python",
   "name": "python3"
  },
  "language_info": {
   "codemirror_mode": {
    "name": "ipython",
    "version": 3
   },
   "file_extension": ".py",
   "mimetype": "text/x-python",
   "name": "python",
   "nbconvert_exporter": "python",
   "pygments_lexer": "ipython3",
   "version": "3.8.8"
  }
 },
 "nbformat": 4,
 "nbformat_minor": 4
}
