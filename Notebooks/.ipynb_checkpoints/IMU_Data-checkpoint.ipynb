{
 "cells": [
  {
   "cell_type": "code",
   "execution_count": 1,
   "id": "a47b78dc",
   "metadata": {},
   "outputs": [],
   "source": [
    "import numpy as np \n",
    "import pandas as pd\n",
    "import matplotlib.pyplot as plt\n",
    "%matplotlib inline\n"
   ]
  },
  {
   "cell_type": "code",
   "execution_count": 2,
   "id": "5fb19327",
   "metadata": {},
   "outputs": [],
   "source": [
    "imu_data = pd.read_csv(\"../Raw Data.csv\")"
   ]
  },
  {
   "cell_type": "code",
   "execution_count": 3,
   "id": "7d999d68",
   "metadata": {},
   "outputs": [
    {
     "data": {
      "text/html": [
       "<div>\n",
       "<style scoped>\n",
       "    .dataframe tbody tr th:only-of-type {\n",
       "        vertical-align: middle;\n",
       "    }\n",
       "\n",
       "    .dataframe tbody tr th {\n",
       "        vertical-align: top;\n",
       "    }\n",
       "\n",
       "    .dataframe thead th {\n",
       "        text-align: right;\n",
       "    }\n",
       "</style>\n",
       "<table border=\"1\" class=\"dataframe\">\n",
       "  <thead>\n",
       "    <tr style=\"text-align: right;\">\n",
       "      <th></th>\n",
       "      <th>Time (s)</th>\n",
       "      <th>Acceleration x (m/s^2)</th>\n",
       "      <th>Acceleration y (m/s^2)</th>\n",
       "      <th>Acceleration z (m/s^2)</th>\n",
       "      <th>Absolute acceleration (m/s^2)</th>\n",
       "    </tr>\n",
       "  </thead>\n",
       "  <tbody>\n",
       "    <tr>\n",
       "      <th>0</th>\n",
       "      <td>0.003541</td>\n",
       "      <td>-1.628164</td>\n",
       "      <td>1.040935</td>\n",
       "      <td>8.854986</td>\n",
       "      <td>9.063401</td>\n",
       "    </tr>\n",
       "    <tr>\n",
       "      <th>1</th>\n",
       "      <td>0.013567</td>\n",
       "      <td>-1.749412</td>\n",
       "      <td>1.404380</td>\n",
       "      <td>8.950787</td>\n",
       "      <td>9.227638</td>\n",
       "    </tr>\n",
       "    <tr>\n",
       "      <th>2</th>\n",
       "      <td>0.023592</td>\n",
       "      <td>-2.262395</td>\n",
       "      <td>1.911824</td>\n",
       "      <td>8.664582</td>\n",
       "      <td>9.156882</td>\n",
       "    </tr>\n",
       "    <tr>\n",
       "      <th>3</th>\n",
       "      <td>0.033618</td>\n",
       "      <td>-2.320175</td>\n",
       "      <td>2.498454</td>\n",
       "      <td>8.614436</td>\n",
       "      <td>9.264664</td>\n",
       "    </tr>\n",
       "    <tr>\n",
       "      <th>4</th>\n",
       "      <td>0.043644</td>\n",
       "      <td>-2.306703</td>\n",
       "      <td>3.279231</td>\n",
       "      <td>8.475525</td>\n",
       "      <td>9.375967</td>\n",
       "    </tr>\n",
       "  </tbody>\n",
       "</table>\n",
       "</div>"
      ],
      "text/plain": [
       "   Time (s)  Acceleration x (m/s^2)  Acceleration y (m/s^2)  \\\n",
       "0  0.003541               -1.628164                1.040935   \n",
       "1  0.013567               -1.749412                1.404380   \n",
       "2  0.023592               -2.262395                1.911824   \n",
       "3  0.033618               -2.320175                2.498454   \n",
       "4  0.043644               -2.306703                3.279231   \n",
       "\n",
       "   Acceleration z (m/s^2)  Absolute acceleration (m/s^2)  \n",
       "0                8.854986                       9.063401  \n",
       "1                8.950787                       9.227638  \n",
       "2                8.664582                       9.156882  \n",
       "3                8.614436                       9.264664  \n",
       "4                8.475525                       9.375967  "
      ]
     },
     "execution_count": 3,
     "metadata": {},
     "output_type": "execute_result"
    }
   ],
   "source": [
    "imu_data.head()"
   ]
  },
  {
   "cell_type": "code",
   "execution_count": 5,
   "id": "813df0bf",
   "metadata": {},
   "outputs": [
    {
     "data": {
      "text/plain": [
       "[<matplotlib.lines.Line2D at 0x293c7830070>]"
      ]
     },
     "execution_count": 5,
     "metadata": {},
     "output_type": "execute_result"
    },
    {
     "data": {
      "image/png": "[encoded data removed]",
      "text/plain": [
       "<Figure size 432x288 with 1 Axes>"
      ]
     },
     "metadata": {
      "needs_background": "light"
     },
     "output_type": "display_data"
    }
   ],
   "source": [
    "plt.plot(imu_data['Acceleration x (m/s^2)'])"
   ]
  },
  {
   "cell_type": "code",
   "execution_count": null,
   "id": "290f69c1",
   "metadata": {},
   "outputs": [],
   "source": []
  }
 ],
 "metadata": {
  "kernelspec": {
   "display_name": "Python 3",
   "language": "python",
   "name": "python3"
  },
  "language_info": {
   "codemirror_mode": {
    "name": "ipython",
    "version": 3
   },
   "file_extension": ".py",
   "mimetype": "text/x-python",
   "name": "python",
   "nbconvert_exporter": "python",
   "pygments_lexer": "ipython3",
   "version": "3.8.8"
  }
 },
 "nbformat": 4,
 "nbformat_minor": 5
}
