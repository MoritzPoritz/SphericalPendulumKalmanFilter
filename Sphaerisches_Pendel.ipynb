{
 "cells": [
  {
   "cell_type": "code",
   "execution_count": 1,
   "id": "0ccd4403",
   "metadata": {},
   "outputs": [],
   "source": [
    "import numpy as np\n",
    "import sympy as sp\n",
    "import math\n",
    "DEG_TO_RAD = math.pi/180\n",
    "import matplotlib.pyplot as plt\n",
    "%matplotlib qt"
   ]
  },
  {
   "cell_type": "code",
   "execution_count": 2,
   "id": "9181447a",
   "metadata": {},
   "outputs": [],
   "source": [
    "theta = [1 * DEG_TO_RAD]\n",
    "phi = [0.5 * DEG_TO_RAD]\n",
    "theta_first_deriv = [0]\n",
    "phi_first_deriv = [0]\n",
    "theta_second_deriv = [0]\n",
    "phi_second_deriv = [0]\n",
    "\n",
    "positions = []\n",
    "\n",
    "Ts = 0.1\n",
    "N = 10000\n",
    "T = np.arange(N) * Ts\n",
    "\n",
    "g = 9.81\n",
    "l = 1"
   ]
  },
  {
   "cell_type": "code",
   "execution_count": 3,
   "id": "73316106",
   "metadata": {},
   "outputs": [],
   "source": [
    "def polar_to_kartesian(r, theta, phi):\n",
    "    x = r * np.sin(theta)*np.cos(phi)\n",
    "    y = -r * np.cos(theta)\n",
    "    z = -r * np.sin(theta)*np.sin(phi)\n",
    "    \n",
    "    return [x,y,z]"
   ]
  },
  {
   "cell_type": "code",
   "execution_count": 4,
   "id": "e06ac460",
   "metadata": {},
   "outputs": [],
   "source": [
    "for i in range(1,N-1): \n",
    "    tf_1 = theta_first_deriv[i-1] + (phi_first_deriv[i-1]**2*np.cos(theta[i-1]))*np.sin((theta[i-1])) - (g/l * np.sin(theta[i-1])) * Ts\n",
    "    theta_first_deriv.append(tf_1)\n",
    "    \n",
    "    pf_1 = (phi_first_deriv[i-1] + (-2*theta_first_deriv[i-1]*phi_first_deriv[i-1]*(1/np.tan(theta[i-1]))))*Ts\n",
    "    phi_first_deriv.append(pf_1)\n",
    "    \n",
    "    theta.append(theta[i-1] + theta_first_deriv[i-1] * Ts)\n",
    "    phi.append(phi[i-1] + phi_first_deriv[i-1]*Ts)\n",
    "\n",
    "for i in range(0,N-1):\n",
    "    positions.append(polar_to_kartesian(l, theta[i], phi[i]))\n",
    "    \n",
    "    "
   ]
  },
  {
   "cell_type": "markdown",
   "id": "9e6baa36",
   "metadata": {},
   "source": [
    "## Prepare data"
   ]
  },
  {
   "cell_type": "code",
   "execution_count": 5,
   "id": "d2bea931",
   "metadata": {},
   "outputs": [],
   "source": [
    "import matplotlib.pyplot as plt\n",
    "import mpl_toolkits.mplot3d.axes3d as p3\n",
    "import matplotlib.animation as animation"
   ]
  },
  {
   "cell_type": "code",
   "execution_count": 6,
   "id": "893ca691",
   "metadata": {},
   "outputs": [],
   "source": [
    "positions = np.array(positions)\n"
   ]
  },
  {
   "cell_type": "code",
   "execution_count": 7,
   "id": "e4329671",
   "metadata": {},
   "outputs": [
    {
     "data": {
      "text/plain": [
       "[<mpl_toolkits.mplot3d.art3d.Line3D at 0x1b513a8c700>]"
      ]
     },
     "execution_count": 7,
     "metadata": {},
     "output_type": "execute_result"
    }
   ],
   "source": [
    "fig = plt.figure()\n",
    "ax = fig.add_subplot(111, projection='3d')\n",
    "ax.set_xlim3d(-1, 1)\n",
    "ax.set_ylim3d(-1, 1)\n",
    "ax.set_zlim3d(-1, 1)\n",
    "ax.set_xlabel(\"X\")\n",
    "ax.set_ylabel(\"Y\")\n",
    "ax.set_zlabel(\"Z\")\n",
    "ax.plot(positions[:,0], positions[:,1], positions[:,2])"
   ]
  },
  {
   "cell_type": "code",
   "execution_count": null,
   "id": "5cc0d588",
   "metadata": {},
   "outputs": [],
   "source": []
  },
  {
   "cell_type": "code",
   "execution_count": null,
   "id": "208ac272",
   "metadata": {},
   "outputs": [],
   "source": []
  }
 ],
 "metadata": {
  "kernelspec": {
   "display_name": "Python 3 (ipykernel)",
   "language": "python",
   "name": "python3"
  },
  "language_info": {
   "codemirror_mode": {
    "name": "ipython",
    "version": 3
   },
   "file_extension": ".py",
   "mimetype": "text/x-python",
   "name": "python",
   "nbconvert_exporter": "python",
   "pygments_lexer": "ipython3",
   "version": "3.9.7"
  }
 },
 "nbformat": 4,
 "nbformat_minor": 5
}
