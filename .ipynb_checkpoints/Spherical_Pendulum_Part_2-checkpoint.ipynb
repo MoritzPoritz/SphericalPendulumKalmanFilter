{
 "cells": [
  {
   "cell_type": "code",
   "execution_count": 1,
   "id": "cb850720",
   "metadata": {},
   "outputs": [],
   "source": [
    "from filterpy.kalman import UnscentedKalmanFilter as UKF\n",
    "from filterpy.kalman import MerweScaledSigmaPoints\n",
    "from filterpy.common import Q_discrete_white_noise\n",
    "from numpy.random import randn\n",
    "import numpy as np\n",
    "import sympy as sp\n",
    "import math\n",
    "import matplotlib.pyplot as plt\n",
    "%matplotlib qt\n",
    "DEG_TO_RAD = math.pi/180\n",
    "RAD_TO_DEG = 180/math.pi\n",
    "gravitation = 9.81\n",
    "l = 0.5"
   ]
  },
  {
   "cell_type": "code",
   "execution_count": 2,
   "id": "b8824b6b",
   "metadata": {},
   "outputs": [],
   "source": [
    "def polar_to_kartesian(r, theta, phi):\n",
    "    x = r * np.sin(theta) * np.cos(phi)\n",
    "    y = r * np.sin(theta) * np.sin(phi)\n",
    "    z = -r * np.cos(theta)\n",
    "    return [x,y,z]"
   ]
  },
  {
   "cell_type": "markdown",
   "id": "1c6f0896",
   "metadata": {},
   "source": [
    "X ist der Zustand $ \\vec x = \\begin{bmatrix} \\theta \\\\ \\phi \\\\ \\theta' \\\\ \\phi' \\end{bmatrix} $ wobei gilt $ q = \\begin{bmatrix} \\theta \\\\ \\phi \\end{bmatrix} $\n",
    "\n",
    "\n",
    "Die Funktion **transfer_function** berechnet $\\dot{ \\vec x}$"
   ]
  },
  {
   "cell_type": "code",
   "execution_count": 3,
   "id": "41187b3f",
   "metadata": {},
   "outputs": [],
   "source": [
    "def state_first_deriv(x):\n",
    "    dq = x[2:]\n",
    "    dq2 = second_deriv_theta_phi(x)\n",
    "    \n",
    "    return np.concatenate([dq, dq2])"
   ]
  },
  {
   "cell_type": "code",
   "execution_count": 4,
   "id": "6a45b360",
   "metadata": {},
   "outputs": [],
   "source": [
    "def second_deriv_theta_phi(x):\n",
    "    theta, phi, d_theta, d_phi = x\n",
    "    c, s, t = np.cos(theta), np.sin(theta), np.tan(theta)\n",
    "\n",
    "    d2_theta = (d_phi**2 * c - gravitation / l) * s\n",
    "    d2_phi = -2 * d_theta * d_phi / t\n",
    "    if (t == 0):\n",
    "        print ('t is 0')\n",
    "\n",
    "    return np.array([d2_theta, d2_phi])\n",
    "    "
   ]
  },
  {
   "cell_type": "code",
   "execution_count": 5,
   "id": "38dcad62",
   "metadata": {},
   "outputs": [],
   "source": [
    "def f(x, dt):\n",
    "    x_new = x + state_first_deriv(x) * dt\n",
    "    return x_new\n",
    "    "
   ]
  },
  {
   "cell_type": "code",
   "execution_count": 6,
   "id": "446ad546",
   "metadata": {},
   "outputs": [],
   "source": [
    "def h(x):\n",
    "    y = polar_to_kartesian(l, x[0], x[1]) \n",
    "    return y"
   ]
  },
  {
   "cell_type": "code",
   "execution_count": 7,
   "id": "f6437cc5",
   "metadata": {},
   "outputs": [],
   "source": [
    "# Nice divisors are divisors (2.5,4.2), (4, 6), (5, 2) and (1.1, inf)\n",
    "\n",
    "x = [[np.pi / 2.5, 0, 0, np.pi/4.2]]\n",
    "positions = []\n",
    "Ts = [0]\n",
    "dt = 1/100000\n",
    "#dt = 1/300\n",
    "N = 1000000\n",
    "for i in range(N):\n",
    "    positions.append(polar_to_kartesian(l, x[i][0],x[i][1]))\n",
    "    x.append(f(x[i],dt))\n",
    "    Ts.append(i*dt)"
   ]
  },
  {
   "cell_type": "markdown",
   "id": "83c4789a",
   "metadata": {},
   "source": [
    "## Auswahl weniger Punkte"
   ]
  },
  {
   "cell_type": "code",
   "execution_count": 59,
   "id": "d7ed0152",
   "metadata": {},
   "outputs": [],
   "source": [
    "positions_decreased = []\n",
    "Ts_decreased = []\n",
    "for i in range(N):\n",
    "    if(i % 333 == 0):\n",
    "        positions_decreased.append(positions[i])\n",
    "        Ts_decreased.append(Ts[i])\n",
    "        "
   ]
  },
  {
   "cell_type": "markdown",
   "id": "2d0b1d2e",
   "metadata": {},
   "source": [
    "# Definition Kalman-Filter"
   ]
  },
  {
   "cell_type": "code",
   "execution_count": 60,
   "id": "ad50fed6",
   "metadata": {},
   "outputs": [],
   "source": [
    "sigmas = MerweScaledSigmaPoints(4, alpha=.1, beta=2, kappa=-1)\n",
    "std_x, std_y, std_z = .02,.02,.02"
   ]
  },
  {
   "cell_type": "markdown",
   "id": "da5cccc0",
   "metadata": {},
   "source": [
    "## Simulationsdaten mit künstlichem Messrauschen versehen"
   ]
  },
  {
   "cell_type": "code",
   "execution_count": 61,
   "id": "1598689e",
   "metadata": {},
   "outputs": [],
   "source": [
    "positions_decreased = np.array(positions_decreased)\n"
   ]
  },
  {
   "cell_type": "code",
   "execution_count": 62,
   "id": "ddf56cdd",
   "metadata": {},
   "outputs": [],
   "source": [
    "np.random.seed(1234)\n",
    "\n",
    "for i in range(len(positions_decreased)):\n",
    "    positions_decreased[i][0] = positions_decreased[i][0] + std_x*randn()\n",
    "    positions_decreased[i][1] = positions_decreased[i][1] + std_y*randn()\n",
    "    positions_decreased[i][2] = positions_decreased[i][2] + std_z*randn()\n",
    "    \n"
   ]
  },
  {
   "cell_type": "code",
   "execution_count": 63,
   "id": "2dc7c46b",
   "metadata": {},
   "outputs": [
    {
     "ename": "ValueError",
     "evalue": "array must not contain infs or NaNs",
     "output_type": "error",
     "traceback": [
      "\u001b[1;31m---------------------------------------------------------------------------\u001b[0m",
      "\u001b[1;31mValueError\u001b[0m                                Traceback (most recent call last)",
      "\u001b[1;32m<ipython-input-63-c68f9dfed258>\u001b[0m in \u001b[0;36m<module>\u001b[1;34m\u001b[0m\n\u001b[0;32m      7\u001b[0m \u001b[0muxs\u001b[0m \u001b[1;33m=\u001b[0m \u001b[1;33m[\u001b[0m\u001b[1;33m]\u001b[0m\u001b[1;33m\u001b[0m\u001b[1;33m\u001b[0m\u001b[0m\n\u001b[0;32m      8\u001b[0m \u001b[1;32mfor\u001b[0m \u001b[0mp\u001b[0m \u001b[1;32min\u001b[0m \u001b[0mpositions_decreased\u001b[0m\u001b[1;33m:\u001b[0m\u001b[1;33m\u001b[0m\u001b[1;33m\u001b[0m\u001b[0m\n\u001b[1;32m----> 9\u001b[1;33m     \u001b[0mukf\u001b[0m\u001b[1;33m.\u001b[0m\u001b[0mpredict\u001b[0m\u001b[1;33m(\u001b[0m\u001b[1;33m)\u001b[0m\u001b[1;33m\u001b[0m\u001b[1;33m\u001b[0m\u001b[0m\n\u001b[0m\u001b[0;32m     10\u001b[0m     \u001b[0mukf\u001b[0m\u001b[1;33m.\u001b[0m\u001b[0mupdate\u001b[0m\u001b[1;33m(\u001b[0m\u001b[0mp\u001b[0m\u001b[1;33m)\u001b[0m\u001b[1;33m\u001b[0m\u001b[1;33m\u001b[0m\u001b[0m\n\u001b[0;32m     11\u001b[0m     \u001b[0muxs\u001b[0m\u001b[1;33m.\u001b[0m\u001b[0mappend\u001b[0m\u001b[1;33m(\u001b[0m\u001b[0mukf\u001b[0m\u001b[1;33m.\u001b[0m\u001b[0mx\u001b[0m\u001b[1;33m.\u001b[0m\u001b[0mcopy\u001b[0m\u001b[1;33m(\u001b[0m\u001b[1;33m)\u001b[0m\u001b[1;33m)\u001b[0m\u001b[1;33m\u001b[0m\u001b[1;33m\u001b[0m\u001b[0m\n",
      "\u001b[1;32m~\\Anaconda3\\lib\\site-packages\\filterpy\\kalman\\UKF.py\u001b[0m in \u001b[0;36mpredict\u001b[1;34m(self, dt, UT, fx, **fx_args)\u001b[0m\n\u001b[0;32m    386\u001b[0m \u001b[1;33m\u001b[0m\u001b[0m\n\u001b[0;32m    387\u001b[0m         \u001b[1;31m# calculate sigma points for given mean and covariance\u001b[0m\u001b[1;33m\u001b[0m\u001b[1;33m\u001b[0m\u001b[1;33m\u001b[0m\u001b[0m\n\u001b[1;32m--> 388\u001b[1;33m         \u001b[0mself\u001b[0m\u001b[1;33m.\u001b[0m\u001b[0mcompute_process_sigmas\u001b[0m\u001b[1;33m(\u001b[0m\u001b[0mdt\u001b[0m\u001b[1;33m,\u001b[0m \u001b[0mfx\u001b[0m\u001b[1;33m,\u001b[0m \u001b[1;33m**\u001b[0m\u001b[0mfx_args\u001b[0m\u001b[1;33m)\u001b[0m\u001b[1;33m\u001b[0m\u001b[1;33m\u001b[0m\u001b[0m\n\u001b[0m\u001b[0;32m    389\u001b[0m \u001b[1;33m\u001b[0m\u001b[0m\n\u001b[0;32m    390\u001b[0m         \u001b[1;31m#and pass sigmas through the unscented transform to compute prior\u001b[0m\u001b[1;33m\u001b[0m\u001b[1;33m\u001b[0m\u001b[1;33m\u001b[0m\u001b[0m\n",
      "\u001b[1;32m~\\Anaconda3\\lib\\site-packages\\filterpy\\kalman\\UKF.py\u001b[0m in \u001b[0;36mcompute_process_sigmas\u001b[1;34m(self, dt, fx, **fx_args)\u001b[0m\n\u001b[0;32m    498\u001b[0m \u001b[1;33m\u001b[0m\u001b[0m\n\u001b[0;32m    499\u001b[0m         \u001b[1;31m# calculate sigma points for given mean and covariance\u001b[0m\u001b[1;33m\u001b[0m\u001b[1;33m\u001b[0m\u001b[1;33m\u001b[0m\u001b[0m\n\u001b[1;32m--> 500\u001b[1;33m         \u001b[0msigmas\u001b[0m \u001b[1;33m=\u001b[0m \u001b[0mself\u001b[0m\u001b[1;33m.\u001b[0m\u001b[0mpoints_fn\u001b[0m\u001b[1;33m.\u001b[0m\u001b[0msigma_points\u001b[0m\u001b[1;33m(\u001b[0m\u001b[0mself\u001b[0m\u001b[1;33m.\u001b[0m\u001b[0mx\u001b[0m\u001b[1;33m,\u001b[0m \u001b[0mself\u001b[0m\u001b[1;33m.\u001b[0m\u001b[0mP\u001b[0m\u001b[1;33m)\u001b[0m\u001b[1;33m\u001b[0m\u001b[1;33m\u001b[0m\u001b[0m\n\u001b[0m\u001b[0;32m    501\u001b[0m \u001b[1;33m\u001b[0m\u001b[0m\n\u001b[0;32m    502\u001b[0m         \u001b[1;32mfor\u001b[0m \u001b[0mi\u001b[0m\u001b[1;33m,\u001b[0m \u001b[0ms\u001b[0m \u001b[1;32min\u001b[0m \u001b[0menumerate\u001b[0m\u001b[1;33m(\u001b[0m\u001b[0msigmas\u001b[0m\u001b[1;33m)\u001b[0m\u001b[1;33m:\u001b[0m\u001b[1;33m\u001b[0m\u001b[1;33m\u001b[0m\u001b[0m\n",
      "\u001b[1;32m~\\Anaconda3\\lib\\site-packages\\filterpy\\kalman\\sigma_points.py\u001b[0m in \u001b[0;36msigma_points\u001b[1;34m(self, x, P)\u001b[0m\n\u001b[0;32m    166\u001b[0m \u001b[1;33m\u001b[0m\u001b[0m\n\u001b[0;32m    167\u001b[0m         \u001b[0mlambda_\u001b[0m \u001b[1;33m=\u001b[0m \u001b[0mself\u001b[0m\u001b[1;33m.\u001b[0m\u001b[0malpha\u001b[0m\u001b[1;33m**\u001b[0m\u001b[1;36m2\u001b[0m \u001b[1;33m*\u001b[0m \u001b[1;33m(\u001b[0m\u001b[0mn\u001b[0m \u001b[1;33m+\u001b[0m \u001b[0mself\u001b[0m\u001b[1;33m.\u001b[0m\u001b[0mkappa\u001b[0m\u001b[1;33m)\u001b[0m \u001b[1;33m-\u001b[0m \u001b[0mn\u001b[0m\u001b[1;33m\u001b[0m\u001b[1;33m\u001b[0m\u001b[0m\n\u001b[1;32m--> 168\u001b[1;33m         \u001b[0mU\u001b[0m \u001b[1;33m=\u001b[0m \u001b[0mself\u001b[0m\u001b[1;33m.\u001b[0m\u001b[0msqrt\u001b[0m\u001b[1;33m(\u001b[0m\u001b[1;33m(\u001b[0m\u001b[0mlambda_\u001b[0m \u001b[1;33m+\u001b[0m \u001b[0mn\u001b[0m\u001b[1;33m)\u001b[0m\u001b[1;33m*\u001b[0m\u001b[0mP\u001b[0m\u001b[1;33m)\u001b[0m\u001b[1;33m\u001b[0m\u001b[1;33m\u001b[0m\u001b[0m\n\u001b[0m\u001b[0;32m    169\u001b[0m \u001b[1;33m\u001b[0m\u001b[0m\n\u001b[0;32m    170\u001b[0m         \u001b[0msigmas\u001b[0m \u001b[1;33m=\u001b[0m \u001b[0mnp\u001b[0m\u001b[1;33m.\u001b[0m\u001b[0mzeros\u001b[0m\u001b[1;33m(\u001b[0m\u001b[1;33m(\u001b[0m\u001b[1;36m2\u001b[0m\u001b[1;33m*\u001b[0m\u001b[0mn\u001b[0m\u001b[1;33m+\u001b[0m\u001b[1;36m1\u001b[0m\u001b[1;33m,\u001b[0m \u001b[0mn\u001b[0m\u001b[1;33m)\u001b[0m\u001b[1;33m)\u001b[0m\u001b[1;33m\u001b[0m\u001b[1;33m\u001b[0m\u001b[0m\n",
      "\u001b[1;32m~\\Anaconda3\\lib\\site-packages\\scipy\\linalg\\decomp_cholesky.py\u001b[0m in \u001b[0;36mcholesky\u001b[1;34m(a, lower, overwrite_a, check_finite)\u001b[0m\n\u001b[0;32m     86\u001b[0m \u001b[1;33m\u001b[0m\u001b[0m\n\u001b[0;32m     87\u001b[0m     \"\"\"\n\u001b[1;32m---> 88\u001b[1;33m     c, lower = _cholesky(a, lower=lower, overwrite_a=overwrite_a, clean=True,\n\u001b[0m\u001b[0;32m     89\u001b[0m                          check_finite=check_finite)\n\u001b[0;32m     90\u001b[0m     \u001b[1;32mreturn\u001b[0m \u001b[0mc\u001b[0m\u001b[1;33m\u001b[0m\u001b[1;33m\u001b[0m\u001b[0m\n",
      "\u001b[1;32m~\\Anaconda3\\lib\\site-packages\\scipy\\linalg\\decomp_cholesky.py\u001b[0m in \u001b[0;36m_cholesky\u001b[1;34m(a, lower, overwrite_a, clean, check_finite)\u001b[0m\n\u001b[0;32m     15\u001b[0m     \u001b[1;34m\"\"\"Common code for cholesky() and cho_factor().\"\"\"\u001b[0m\u001b[1;33m\u001b[0m\u001b[1;33m\u001b[0m\u001b[0m\n\u001b[0;32m     16\u001b[0m \u001b[1;33m\u001b[0m\u001b[0m\n\u001b[1;32m---> 17\u001b[1;33m     \u001b[0ma1\u001b[0m \u001b[1;33m=\u001b[0m \u001b[0masarray_chkfinite\u001b[0m\u001b[1;33m(\u001b[0m\u001b[0ma\u001b[0m\u001b[1;33m)\u001b[0m \u001b[1;32mif\u001b[0m \u001b[0mcheck_finite\u001b[0m \u001b[1;32melse\u001b[0m \u001b[0masarray\u001b[0m\u001b[1;33m(\u001b[0m\u001b[0ma\u001b[0m\u001b[1;33m)\u001b[0m\u001b[1;33m\u001b[0m\u001b[1;33m\u001b[0m\u001b[0m\n\u001b[0m\u001b[0;32m     18\u001b[0m     \u001b[0ma1\u001b[0m \u001b[1;33m=\u001b[0m \u001b[0matleast_2d\u001b[0m\u001b[1;33m(\u001b[0m\u001b[0ma1\u001b[0m\u001b[1;33m)\u001b[0m\u001b[1;33m\u001b[0m\u001b[1;33m\u001b[0m\u001b[0m\n\u001b[0;32m     19\u001b[0m \u001b[1;33m\u001b[0m\u001b[0m\n",
      "\u001b[1;32m~\\Anaconda3\\lib\\site-packages\\numpy\\lib\\function_base.py\u001b[0m in \u001b[0;36masarray_chkfinite\u001b[1;34m(a, dtype, order)\u001b[0m\n\u001b[0;32m    486\u001b[0m     \u001b[0ma\u001b[0m \u001b[1;33m=\u001b[0m \u001b[0masarray\u001b[0m\u001b[1;33m(\u001b[0m\u001b[0ma\u001b[0m\u001b[1;33m,\u001b[0m \u001b[0mdtype\u001b[0m\u001b[1;33m=\u001b[0m\u001b[0mdtype\u001b[0m\u001b[1;33m,\u001b[0m \u001b[0morder\u001b[0m\u001b[1;33m=\u001b[0m\u001b[0morder\u001b[0m\u001b[1;33m)\u001b[0m\u001b[1;33m\u001b[0m\u001b[1;33m\u001b[0m\u001b[0m\n\u001b[0;32m    487\u001b[0m     \u001b[1;32mif\u001b[0m \u001b[0ma\u001b[0m\u001b[1;33m.\u001b[0m\u001b[0mdtype\u001b[0m\u001b[1;33m.\u001b[0m\u001b[0mchar\u001b[0m \u001b[1;32min\u001b[0m \u001b[0mtypecodes\u001b[0m\u001b[1;33m[\u001b[0m\u001b[1;34m'AllFloat'\u001b[0m\u001b[1;33m]\u001b[0m \u001b[1;32mand\u001b[0m \u001b[1;32mnot\u001b[0m \u001b[0mnp\u001b[0m\u001b[1;33m.\u001b[0m\u001b[0misfinite\u001b[0m\u001b[1;33m(\u001b[0m\u001b[0ma\u001b[0m\u001b[1;33m)\u001b[0m\u001b[1;33m.\u001b[0m\u001b[0mall\u001b[0m\u001b[1;33m(\u001b[0m\u001b[1;33m)\u001b[0m\u001b[1;33m:\u001b[0m\u001b[1;33m\u001b[0m\u001b[1;33m\u001b[0m\u001b[0m\n\u001b[1;32m--> 488\u001b[1;33m         raise ValueError(\n\u001b[0m\u001b[0;32m    489\u001b[0m             \"array must not contain infs or NaNs\")\n\u001b[0;32m    490\u001b[0m     \u001b[1;32mreturn\u001b[0m \u001b[0ma\u001b[0m\u001b[1;33m\u001b[0m\u001b[1;33m\u001b[0m\u001b[0m\n",
      "\u001b[1;31mValueError\u001b[0m: array must not contain infs or NaNs"
     ]
    }
   ],
   "source": [
    "ukf = UKF(dim_x=4, dim_z=3,fx=f, hx=h, dt=333/100000, points=sigmas)\n",
    "ukf.x = np.array(x[0])\n",
    "ukf.R = np.diag([std_x**2, std_y**2, std_z**2])\n",
    "ukf.Q[0:2, 0:2] = Q_discrete_white_noise(2,dt=333/100000, var=.02)\n",
    "ukf.Q[2:4, 2:4] = Q_discrete_white_noise(2,dt=333/100000, var=.02)\n",
    "\n",
    "uxs = []\n",
    "for p in positions_decreased:\n",
    "    ukf.predict()\n",
    "    ukf.update(p)\n",
    "    uxs.append(ukf.x.copy())\n",
    "\n",
    "uxs = np.array(uxs)\n",
    "ux_positions = []\n",
    "for ux in uxs:\n",
    "    ux_positions.append(polar_to_kartesian(l, ux[0], ux[1]))\n",
    "    "
   ]
  },
  {
   "cell_type": "code",
   "execution_count": 64,
   "id": "611e2782",
   "metadata": {},
   "outputs": [],
   "source": [
    "ux_positions = np.array(ux_positions)"
   ]
  },
  {
   "cell_type": "markdown",
   "id": "d8f6ce8f",
   "metadata": {},
   "source": [
    "## Plot "
   ]
  },
  {
   "cell_type": "code",
   "execution_count": 53,
   "id": "9e049482",
   "metadata": {},
   "outputs": [],
   "source": [
    "import matplotlib.pyplot as plt\n",
    "import mpl_toolkits.mplot3d.axes3d as p3\n",
    "import matplotlib.animation as animation\n",
    "import matplotlib as mpl"
   ]
  },
  {
   "cell_type": "code",
   "execution_count": 54,
   "id": "89bf499c",
   "metadata": {},
   "outputs": [],
   "source": [
    "#mpl.rcParams['agg.path.chunksize'] = 10000"
   ]
  },
  {
   "cell_type": "markdown",
   "id": "3971820f",
   "metadata": {},
   "source": [
    "Plot Unanimated"
   ]
  },
  {
   "cell_type": "code",
   "execution_count": 55,
   "id": "6edd4e2c",
   "metadata": {},
   "outputs": [
    {
     "data": {
      "text/plain": [
       "[<mpl_toolkits.mplot3d.art3d.Line3D at 0x20ab21e9760>]"
      ]
     },
     "execution_count": 55,
     "metadata": {},
     "output_type": "execute_result"
    }
   ],
   "source": [
    "%matplotlib qt\n",
    "fig = plt.figure()\n",
    "ax = fig.add_subplot(projection='3d')\n",
    "ax.set_xlim3d(-1, 1)\n",
    "ax.set_ylim3d(-1, 1)\n",
    "ax.set_zlim3d(-1, 1)\n",
    "ax.set_xlabel(\"X\")\n",
    "ax.set_ylabel(\"Y\")\n",
    "ax.set_zlabel(\"Z\")\n",
    "\n",
    "string = plt.quiver(0,0,0,0,0,0)\n",
    "\n",
    "# plotting the overall curve\n",
    "#ax.scatter(positions[:,0], positions[:,1], positions[:,2], c='b', marker='.', linewidth=0.00001)\n",
    "\n",
    "def func(num, positions_decreased, pendulum): \n",
    "    x = ux_positions[num, 0]\n",
    "    y = ux_positions[num, 1]\n",
    "    z = ux_positions[num, 2]\n",
    "    \n",
    "    pendulum.set_data(x,y)\n",
    "    pendulum.set_3d_properties(z)\n",
    "    \n",
    "    \n",
    "    u = ux_positions[num, 0]\n",
    "    v = ux_positions[num, 1]\n",
    "    w = ux_positions[num, 2]\n",
    "    \n",
    "    global string\n",
    "    string.remove()\n",
    "    string = plt.quiver(0,0,0, u, v, w,color='g')\n",
    "    \n",
    "pendulum, = plt.plot([ux_positions[0,0]], [ux_positions[0,1]], [ux_positions[0,2]], c='r', marker='o')\n",
    "\n",
    "ani = animation.FuncAnimation(fig, func, fargs=(ux_positions, pendulum), interval=1/1000, blit=False)\n",
    "\n",
    "ax.plot(positions_decreased[:,0], positions_decreased[:,1], positions_decreased[:,2], linewidth=0.6)\n",
    "ax.plot(ux_positions[:,0], ux_positions[:,1], ux_positions[:,2], color='red', linewidth=0.6)"
   ]
  },
  {
   "cell_type": "markdown",
   "id": "e573ab7d",
   "metadata": {},
   "source": [
    "### Plot every plane\n",
    "\n"
   ]
  },
  {
   "cell_type": "code",
   "execution_count": 165,
   "id": "9778ba05",
   "metadata": {},
   "outputs": [],
   "source": [
    "%matplotlib inline"
   ]
  },
  {
   "cell_type": "markdown",
   "id": "3db4ee21",
   "metadata": {},
   "source": [
    "Plot X-Y Plane"
   ]
  },
  {
   "cell_type": "code",
   "execution_count": 65,
   "id": "9e8c5eed",
   "metadata": {},
   "outputs": [
    {
     "data": {
      "text/plain": [
       "[<matplotlib.lines.Line2D at 0x20aaec15250>]"
      ]
     },
     "execution_count": 65,
     "metadata": {},
     "output_type": "execute_result"
    }
   ],
   "source": [
    "plt.plot(ux_positions[:,0],ux_positions[:,1], color='red')\n",
    "plt.plot(positions_decreased[:,0],positions_decreased[:,1], alpha=0.5)\n",
    "\n"
   ]
  },
  {
   "cell_type": "markdown",
   "id": "f0b92bc3",
   "metadata": {},
   "source": [
    "Plot Y-Z Plane"
   ]
  },
  {
   "cell_type": "code",
   "execution_count": 170,
   "id": "bc920a58",
   "metadata": {},
   "outputs": [
    {
     "data": {
      "text/plain": [
       "[<matplotlib.lines.Line2D at 0x20f0b7f7340>]"
      ]
     },
     "execution_count": 170,
     "metadata": {},
     "output_type": "execute_result"
    }
   ],
   "source": [
    "plt.plot(ux_positions[:,1],ux_positions[:,2], color='red')\n",
    "plt.plot(positions_decreased[:,1],positions_decreased[:,2], alpha=0.5)\n"
   ]
  },
  {
   "cell_type": "markdown",
   "id": "5faa74de",
   "metadata": {},
   "source": [
    "Plot X-Z Plane"
   ]
  },
  {
   "cell_type": "code",
   "execution_count": 171,
   "id": "4d2aa7cb",
   "metadata": {},
   "outputs": [
    {
     "data": {
      "text/plain": [
       "[<matplotlib.lines.Line2D at 0x20f0d68f400>]"
      ]
     },
     "execution_count": 171,
     "metadata": {},
     "output_type": "execute_result"
    }
   ],
   "source": [
    "plt.plot(ux_positions[:,0],ux_positions[:,2], color='red')\n",
    "plt.plot(positions_decreased[:,0],positions_decreased[:,2], alpha=0.5)\n"
   ]
  },
  {
   "cell_type": "code",
   "execution_count": null,
   "id": "491b46da",
   "metadata": {},
   "outputs": [],
   "source": []
  }
 ],
 "metadata": {
  "kernelspec": {
   "display_name": "Python 3",
   "language": "python",
   "name": "python3"
  },
  "language_info": {
   "codemirror_mode": {
    "name": "ipython",
    "version": 3
   },
   "file_extension": ".py",
   "mimetype": "text/x-python",
   "name": "python",
   "nbconvert_exporter": "python",
   "pygments_lexer": "ipython3",
   "version": "3.8.8"
  }
 },
 "nbformat": 4,
 "nbformat_minor": 5
}
