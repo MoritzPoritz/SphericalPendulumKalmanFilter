{
 "cells": [
  {
   "cell_type": "code",
   "execution_count": 1,
   "id": "0ccd4403",
   "metadata": {},
   "outputs": [],
   "source": [
    "import numpy as np\n",
    "import sympy as sp\n",
    "import math\n",
    "import matplotlib.pyplot as plt\n",
    "%matplotlib qt"
   ]
  },
  {
   "cell_type": "markdown",
   "id": "a76d4bca",
   "metadata": {},
   "source": [
    "From https://gist.github.com/Nikolaj-K/11233e5d4331f0e1e8b569f9a1481d60"
   ]
  },
  {
   "cell_type": "code",
   "execution_count": 2,
   "id": "2e6bd9c8",
   "metadata": {},
   "outputs": [],
   "source": [
    "def _dy_rk4_method(f, dt):\n",
    "    \"\"\"\n",
    "    See https://en.wikipedia.org/wiki/Runge%E2%80%93Kutta_methods\n",
    "    :param f: Function determining the differential equation\n",
    "    :param dt: Time delta\n",
    "    \"\"\"\n",
    "\n",
    "    def f_(t, y):\n",
    "        return np.array(f(t, y)) # Guarantee possibility of vector addition\n",
    "\n",
    "    def dy(t, y):\n",
    "        k1 = f_(t, y)\n",
    "        k2 = f_(t + dt / 2, y + k1 * dt / 2)\n",
    "        k3 = f_(t + dt / 2, y + k2 * dt / 2)\n",
    "        k4 = f_(t + dt, y + k3 * dt)\n",
    "        WEIGHTS = [1, 2, 2, 1]\n",
    "\n",
    "        f_rk4 = weighted_mean(WEIGHTS, [k1, k2, k3, k4])\n",
    "\n",
    "        return f_rk4 * dt\n",
    "\n",
    "    return dy"
   ]
  },
  {
   "cell_type": "code",
   "execution_count": 3,
   "id": "73316106",
   "metadata": {},
   "outputs": [],
   "source": [
    "def polar_to_kartesian(r, theta, phi):\n",
    "    x = np.sin(theta)*np.cos(phi)\n",
    "    z = np.cos(theta) * -1\n",
    "    y = np.sin(theta)*np.sin(phi)\n",
    "    \n",
    "    #x = r * np.sin(theta)*np.cos(phi)\n",
    "    #y = -r * np.sin(theta)*np.sin(phi)\n",
    "    #z = -r * np.cos(theta)\n",
    "\n",
    "    return [x,y,z]"
   ]
  },
  {
   "cell_type": "code",
   "execution_count": 11,
   "id": "9181447a",
   "metadata": {},
   "outputs": [],
   "source": [
    "DEG_TO_RAD = math.pi/180\n",
    "theta = [45 * DEG_TO_RAD]\n",
    "phi = [90* DEG_TO_RAD]\n",
    "theta_first_deriv = [0]\n",
    "phi_first_deriv = [0]\n",
    "theta_second_deriv = [0]\n",
    "phi_second_deriv = [0]\n",
    "\n",
    "positions = []\n",
    "Ts = 0.1\n",
    "N = 10000\n",
    "T = np.arange(N) * Ts\n",
    "\n",
    "g = 9.81\n",
    "l = 1"
   ]
  },
  {
   "cell_type": "code",
   "execution_count": 12,
   "id": "3e776ce0",
   "metadata": {},
   "outputs": [],
   "source": [
    "def function_g(y):\n",
    "    theta, phi, d_theta, d_phi = y\n",
    "    c,s,t = np.cos(theta), np.sin(theta), np.tan(theta)\n",
    "\n",
    "    d2_theta = (d_phi**2*c-g/l) * s \n",
    "    d2_phi = -2 * d_theta *d_phi / t\n",
    "\n",
    "    return d2_theta, d2_phi"
   ]
  },
  {
   "cell_type": "code",
   "execution_count": 13,
   "id": "e06ac460",
   "metadata": {},
   "outputs": [],
   "source": [
    "for i in range(1,N): \n",
    "\n",
    "    \n",
    "    tf_1 = theta_first_deriv[i-1] + ((phi_first_deriv[i-1]**2*np.cos(theta[i-1]))*np.sin((theta[i-1])) - (g/l * np.sin(theta[i-1]))) * Ts\n",
    "    theta_first_deriv.append(tf_1)\n",
    "    \n",
    "    pf_1 = phi_first_deriv[i-1] + (-2*theta_first_deriv[i-1]*phi_first_deriv[i-1]*(1/np.tan(theta[i-1]))) * Ts\n",
    "    phi_first_deriv.append(pf_1)\n",
    "    \n",
    "    theta.append(theta[i-1] + theta_first_deriv[i-1] * Ts)\n",
    "    phi.append(phi[i-1] + phi_first_deriv[i-1] * Ts)\n",
    "\n",
    "    \n",
    "# Convert to kartesian coordinates\n",
    "for i in range(0,N-1):\n",
    "    positions.append(polar_to_kartesian(l, theta[i], phi[i]))\n",
    "    "
   ]
  },
  {
   "cell_type": "markdown",
   "id": "9e6baa36",
   "metadata": {},
   "source": [
    "## Plot"
   ]
  },
  {
   "cell_type": "code",
   "execution_count": 14,
   "id": "d2bea931",
   "metadata": {},
   "outputs": [],
   "source": [
    "import matplotlib.pyplot as plt\n",
    "import mpl_toolkits.mplot3d.axes3d as p3\n",
    "import matplotlib.animation as animation"
   ]
  },
  {
   "cell_type": "code",
   "execution_count": 15,
   "id": "893ca691",
   "metadata": {},
   "outputs": [],
   "source": [
    "positions = np.array(positions)\n"
   ]
  },
  {
   "cell_type": "code",
   "execution_count": 18,
   "id": "e4329671",
   "metadata": {},
   "outputs": [],
   "source": [
    "fig = plt.figure()\n",
    "ax = fig.add_subplot(projection='3d')\n",
    "ax.set_xlim3d(-2, 2)\n",
    "ax.set_ylim3d(-2, 2)\n",
    "ax.set_zlim3d(-2, 2)\n",
    "ax.set_xlabel(\"X\")\n",
    "ax.set_ylabel(\"Y\")\n",
    "ax.set_zlabel(\"Z\")\n",
    "\n",
    "string = plt.quiver(0,0,0,0,0,0)\n",
    "\n",
    "# plotting the overall curve\n",
    "ax.plot(positions[:,0], positions[:,1], positions[:,2], c='b', marker='o', linewidth=0.001)\n",
    "\n",
    "def func(num, positions, pendulum): \n",
    "    x = positions[num, 0]\n",
    "    y = positions[num, 1]\n",
    "    z = positions[num, 2]\n",
    "    \n",
    "    pendulum.set_data(x,y)\n",
    "    pendulum.set_3d_properties(z)\n",
    "    \n",
    "    \n",
    "        # Plotting the Tangential vector\n",
    "    u = positions[num, 0]\n",
    "    v = positions[num, 1]\n",
    "    w = positions[num, 2]\n",
    "    \n",
    "    global string\n",
    "    string.remove()\n",
    "    string = plt.quiver(0,0,0, u, v, w,color='g')\n",
    "    \n",
    "pendulum, = plt.plot([positions[0,0]], [positions[0,1]], [positions[0,2]], c='r', marker='o')\n",
    "\n",
    "ani = animation.FuncAnimation(fig, func, frames=N, fargs=(positions, pendulum), interval=1/60, blit=False)\n",
    "\n",
    "#ax.plot(positions[:,0], positions[:,1], positions[:,2])"
   ]
  },
  {
   "cell_type": "markdown",
   "id": "1d5f3a31",
   "metadata": {},
   "source": [
    "## Plot first deriv\n"
   ]
  },
  {
   "cell_type": "code",
   "execution_count": 23,
   "id": "ea08c446",
   "metadata": {},
   "outputs": [
    {
     "data": {
      "text/plain": [
       "[<matplotlib.lines.Line2D at 0x153cec86b80>]"
      ]
     },
     "execution_count": 23,
     "metadata": {},
     "output_type": "execute_result"
    }
   ],
   "source": [
    "plt.plot(T, theta_first_deriv)"
   ]
  },
  {
   "cell_type": "code",
   "execution_count": null,
   "id": "cb50dbca",
   "metadata": {},
   "outputs": [],
   "source": []
  }
 ],
 "metadata": {
  "kernelspec": {
   "display_name": "Python 3",
   "language": "python",
   "name": "python3"
  },
  "language_info": {
   "codemirror_mode": {
    "name": "ipython",
    "version": 3
   },
   "file_extension": ".py",
   "mimetype": "text/x-python",
   "name": "python",
   "nbconvert_exporter": "python",
   "pygments_lexer": "ipython3",
   "version": "3.8.8"
  }
 },
 "nbformat": 4,
 "nbformat_minor": 5
}
